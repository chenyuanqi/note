{
 "cells": [
  {
   "cell_type": "code",
   "execution_count": 78,
   "id": "26820a86-ca20-4bf8-a666-ea30e5e43967",
   "metadata": {},
   "outputs": [],
   "source": [
    "# 爬取新闻网站\n",
    "from bs4 import BeautifulSoup\n",
    "import requests\n",
    "\n",
    "headers = {\n",
    "    \"Accept\": \"text/html,application/xhtml+xml,application/xml;q=0.9,image/webp,*/*;q=0.8\",\n",
    "    \"Accept-Language\": \"zh-CN,zh;q=0.8\",\n",
    "    \"Connection\": \"close\",\n",
    "    \"Cookie\": \"_gauges_unique_hour=1; _gauges_unique_day=1; _gauges_unique_month=1; _gauges_unique_year=1; _gauges_unique=1\",\n",
    "    \"Referer\": \"http://www.infoq.com\",\n",
    "    \"Upgrade-Insecure-Requests\": \"1\",\n",
    "    \"User-Agent\": \"Mozilla/5.0 (Windows NT 6.1; WOW64) AppleWebKit/537.36 (KHTML, like Gecko) Chrome/57.0.2987.98 Safari/537.36 LBBROWSER\"\n",
    "}\n",
    "url = 'http://www.infoq.com/cn/news'\n",
    "\n",
    "# 取得新闻标题\n",
    "def craw2(url):\n",
    "    response = requests.get(url, headers=headers)\n",
    "    # soup = BeautifulSoup(response.text, 'lxml')\n",
    "    soup = BeautifulSoup(response.text, \"html.parser\")\n",
    "    for title_href in soup.find_all('div', class_='news_type_block'):\n",
    "        print([title.get('title')\n",
    "              for title in title_href.find_all('a') if title.get('title')])\n",
    "\n",
    "# craw2(url)\n",
    "\n",
    "# 翻页\n",
    "for i in range(15, 46, 15):\n",
    "    url = 'http://www.infoq.com/cn/news/' + str(i)\n",
    "    # print(url)\n",
    "    craw2(url)"
   ]
  },
  {
   "cell_type": "code",
   "execution_count": 76,
   "id": "6278bf0d-b8d7-43b5-aeee-64751c7bc980",
   "metadata": {},
   "outputs": [],
   "source": [
    "# BeautifulSoup\n",
    "# pip3 install bs4\n",
    "# pip3 install lxml\n",
    "html_doc = \"\"\"\n",
    "<html><head><title>The Dormouse's story</title></head>\n",
    "<body>\n",
    "<p class=\"title\"><b>The Dormouse's story</b></p>\n",
    "\n",
    "<p class=\"story\">Once upon a time there were three little sisters; and their names were\n",
    "<a href=\"http://example.com/elsie\" class=\"sister\" id=\"link1\">Elsie</a>,\n",
    "<a href=\"http://example.com/lacie\" class=\"sister\" id=\"link2\">Lacie</a> and\n",
    "<a href=\"http://example.com/tillie\" class=\"sister\" id=\"link3\">Tillie</a>;\n",
    "and they lived at the bottom of a well.</p>\n",
    "\n",
    "<p class=\"story\">...</p>\n",
    "\"\"\"\n",
    "\n",
    "from bs4 import BeautifulSoup\n",
    "\n",
    "# soup = BeautifulSoup(html_doc, 'lxml') # lxml是使用xml语法解析网页\n",
    "\n",
    "# print(soup.prettify())\n",
    "\n",
    "#\n",
    "# # 找到title标签\n",
    "# print(soup.title)\n",
    "#\n",
    "# # title 标签里的内容\n",
    "# print(soup.title.string)\n",
    "\n",
    "\n",
    "# # 找到p标签\n",
    "# print(soup.p)\n",
    "#\n",
    "# # 找到p标签class的名字\n",
    "# print(soup.p['class'])\n",
    "#\n",
    "# # 找到第一个a标签\n",
    "# print(soup.a)\n",
    "#\n",
    "# # 找到所有的a标签\n",
    "# print(soup.find_all('a'))\n",
    "#\n",
    "#\n",
    "# # 找到id为link3的的标签\n",
    "# print(soup.find(id=\"link3\"))\n",
    "#\n",
    "# # 找到所有<a>标签的链接\n",
    "# for link in soup.find_all('a'):\n",
    "#     print(link.get('href'))\n",
    "#\n",
    "# # 找到文档中所有的文本内容\n",
    "# print(soup.get_text())"
   ]
  },
  {
   "cell_type": "code",
   "execution_count": 70,
   "id": "c68098bd-2be3-49cb-b135-18b5e334d690",
   "metadata": {},
   "outputs": [
    {
     "name": "stdout",
     "output_type": "stream",
     "text": [
      "[]\n"
     ]
    }
   ],
   "source": [
    "# 结合正则爬取图片链接\n",
    "import requests\n",
    "import re\n",
    "content = requests.get('http://www.cnu.cc/discoveryPage/hot-人像').text\n",
    "# print(content)\n",
    "# 内容大致如下：\n",
    "# < div class =\"grid-item work-thumbnail\" >\n",
    "# < a href=\"(.*?)\".*?title\">(.*?)</div>\n",
    "# < div class =\"author\" > LynnWei < / div >\n",
    "\n",
    "pattern = re.compile(r'<a href=\"(.*?)\".*?title\">(.*?)</div>', re.S) # re.S 表示 “.”（不包含外侧双引号）的作用扩展到整个字符串\n",
    "results = re.findall(pattern, content)\n",
    "print(results)\n",
    "\n",
    "for result in results:\n",
    "    url, name = result\n",
    "    print(url, re.sub('\\s', '', name))"
   ]
  },
  {
   "cell_type": "code",
   "execution_count": 66,
   "id": "1b0a6014-80f2-4547-a551-052e4a81fc41",
   "metadata": {},
   "outputs": [
    {
     "name": "stdout",
     "output_type": "stream",
     "text": [
      "{\n",
      "  \"args\": {\n",
      "    \"abc\": \"xyz\", \n",
      "    \"key\": \"value\"\n",
      "  }, \n",
      "  \"headers\": {\n",
      "    \"Accept\": \"*/*\", \n",
      "    \"Accept-Encoding\": \"gzip, deflate\", \n",
      "    \"Host\": \"httpbin.org\", \n",
      "    \"User-Agent\": \"python-requests/2.28.1\", \n",
      "    \"X-Amzn-Trace-Id\": \"Root=1-63a808f5-550398c7493439ec6a85fbb1\"\n",
      "  }, \n",
      "  \"origin\": \"117.132.194.121\", \n",
      "  \"url\": \"http://httpbin.org/get?key=value&abc=xyz\"\n",
      "}\n",
      "\n",
      "{'args': {}, 'data': '', 'files': {}, 'form': {'abc': 'xyz', 'key': 'value'}, 'headers': {'Accept': '*/*', 'Accept-Encoding': 'gzip, deflate', 'Content-Length': '17', 'Content-Type': 'application/x-www-form-urlencoded', 'Host': 'httpbin.org', 'User-Agent': 'python-requests/2.28.1', 'X-Amzn-Trace-Id': 'Root=1-63a808f6-2d53b9315de649dd247c3b2b'}, 'json': None, 'origin': '117.132.194.121', 'url': 'http://httpbin.org/post'}\n"
     ]
    }
   ],
   "source": [
    "# requests 库 pip3 install requests\n",
    "# get请求\n",
    "import requests\n",
    "url = 'http://httpbin.org/get'\n",
    "data = {'key': 'value', 'abc': 'xyz'}\n",
    "# .get是使用get方式请求url，字典类型的data不用进行额外处理\n",
    "response = requests.get(url, data)\n",
    "print(response.text)\n",
    "\n",
    "\n",
    "# post请求\n",
    "import requests\n",
    "url = 'http://httpbin.org/post'\n",
    "data = {'key': 'value', 'abc': 'xyz'}\n",
    "# .post表示为post方法\n",
    "response = requests.post(url, data)\n",
    "# 返回类型为json格式\n",
    "print(response.json())"
   ]
  },
  {
   "cell_type": "code",
   "execution_count": 65,
   "id": "94df3887-ee1d-4d40-9501-97aa12242a61",
   "metadata": {},
   "outputs": [
    {
     "name": "stdout",
     "output_type": "stream",
     "text": [
      "{\n",
      "  \"args\": {}, \n",
      "  \"data\": \"\", \n",
      "  \"files\": {}, \n",
      "  \"form\": {\n",
      "    \"word\": \"hello\"\n",
      "  }, \n",
      "  \"headers\": {\n",
      "    \"Accept\": \"text/html,application/xhtml+xml,application/xml;q=0.9,image/webp,*/*;q=0.8\", \n",
      "    \"Accept-Encoding\": \"identity\", \n",
      "    \"Accept-Language\": \"zh-CN,zh;q=0.8\", \n",
      "    \"Content-Length\": \"10\", \n",
      "    \"Content-Type\": \"application/x-www-form-urlencoded\", \n",
      "    \"Cookie\": \"_gauges_unique_hour=1; _gauges_unique_day=1; _gauges_unique_month=1; _gauges_unique_year=1; _gauges_unique=1\", \n",
      "    \"Host\": \"httpbin.org\", \n",
      "    \"Referer\": \"http://httpbin.org\", \n",
      "    \"Upgrade-Insecure-Requests\": \"1\", \n",
      "    \"User-Agent\": \"Mozilla/5.0 (Windows NT 6.1; WOW64) AppleWebKit/537.36 (KHTML, like Gecko) Chrome/57.0.2987.98 Safari/537.36 LBBROWSER\", \n",
      "    \"X-Amzn-Trace-Id\": \"Root=1-63a8082a-2e1a86d46a2f18b44fd9cfbc\"\n",
      "  }, \n",
      "  \"json\": null, \n",
      "  \"origin\": \"117.132.194.121\", \n",
      "  \"url\": \"http://httpbin.org/post\"\n",
      "}\n",
      "\n"
     ]
    }
   ],
   "source": [
    "# http 头部信息模拟\n",
    "from urllib import request\n",
    "from urllib import parse\n",
    "\n",
    "headers = {\n",
    "    \"Accept\": \"text/html,application/xhtml+xml,application/xml;q=0.9,image/webp,*/*;q=0.8\",\n",
    "    \"Accept-Language\": \"zh-CN,zh;q=0.8\",\n",
    "    \"Connection\": \"close\",\n",
    "    \"Cookie\": \"_gauges_unique_hour=1; _gauges_unique_day=1; _gauges_unique_month=1; _gauges_unique_year=1; _gauges_unique=1\",\n",
    "    \"Referer\": \"http://httpbin.org\",\n",
    "    \"Upgrade-Insecure-Requests\": \"1\",\n",
    "    \"User-Agent\": \"Mozilla/5.0 (Windows NT 6.1; WOW64) AppleWebKit/537.36 (KHTML, like Gecko) Chrome/57.0.2987.98 Safari/537.36 LBBROWSER\"\n",
    "}\n",
    "\n",
    "data = bytes(parse.urlencode({'word':'hello'}), encoding='utf8')\n",
    "req = request.Request(url=\"http://httpbin.org/post\", data=data, headers=headers, method=\"POST\")\n",
    "response = request.urlopen(req)\n",
    "print(response.read().decode(\"utf-8\"))"
   ]
  },
  {
   "cell_type": "code",
   "execution_count": 60,
   "id": "3ed4dfe2-e4eb-43b2-98c1-f2d3f8b47a15",
   "metadata": {},
   "outputs": [
    {
     "ename": "NameError",
     "evalue": "name 'urllib' is not defined",
     "output_type": "error",
     "traceback": [
      "\u001b[0;31m---------------------------------------------------------------------------\u001b[0m",
      "\u001b[0;31mTimeoutError\u001b[0m                              Traceback (most recent call last)",
      "File \u001b[0;32m~/.pyenv/versions/3.10.2/lib/python3.10/urllib/request.py:1348\u001b[0m, in \u001b[0;36mAbstractHTTPHandler.do_open\u001b[0;34m(self, http_class, req, **http_conn_args)\u001b[0m\n\u001b[1;32m   1347\u001b[0m \u001b[38;5;28;01mtry\u001b[39;00m:\n\u001b[0;32m-> 1348\u001b[0m     \u001b[43mh\u001b[49m\u001b[38;5;241;43m.\u001b[39;49m\u001b[43mrequest\u001b[49m\u001b[43m(\u001b[49m\u001b[43mreq\u001b[49m\u001b[38;5;241;43m.\u001b[39;49m\u001b[43mget_method\u001b[49m\u001b[43m(\u001b[49m\u001b[43m)\u001b[49m\u001b[43m,\u001b[49m\u001b[43m \u001b[49m\u001b[43mreq\u001b[49m\u001b[38;5;241;43m.\u001b[39;49m\u001b[43mselector\u001b[49m\u001b[43m,\u001b[49m\u001b[43m \u001b[49m\u001b[43mreq\u001b[49m\u001b[38;5;241;43m.\u001b[39;49m\u001b[43mdata\u001b[49m\u001b[43m,\u001b[49m\u001b[43m \u001b[49m\u001b[43mheaders\u001b[49m\u001b[43m,\u001b[49m\n\u001b[1;32m   1349\u001b[0m \u001b[43m              \u001b[49m\u001b[43mencode_chunked\u001b[49m\u001b[38;5;241;43m=\u001b[39;49m\u001b[43mreq\u001b[49m\u001b[38;5;241;43m.\u001b[39;49m\u001b[43mhas_header\u001b[49m\u001b[43m(\u001b[49m\u001b[38;5;124;43m'\u001b[39;49m\u001b[38;5;124;43mTransfer-encoding\u001b[39;49m\u001b[38;5;124;43m'\u001b[39;49m\u001b[43m)\u001b[49m\u001b[43m)\u001b[49m\n\u001b[1;32m   1350\u001b[0m \u001b[38;5;28;01mexcept\u001b[39;00m \u001b[38;5;167;01mOSError\u001b[39;00m \u001b[38;5;28;01mas\u001b[39;00m err: \u001b[38;5;66;03m# timeout error\u001b[39;00m\n",
      "File \u001b[0;32m~/.pyenv/versions/3.10.2/lib/python3.10/http/client.py:1282\u001b[0m, in \u001b[0;36mHTTPConnection.request\u001b[0;34m(self, method, url, body, headers, encode_chunked)\u001b[0m\n\u001b[1;32m   1281\u001b[0m \u001b[38;5;124;03m\"\"\"Send a complete request to the server.\"\"\"\u001b[39;00m\n\u001b[0;32m-> 1282\u001b[0m \u001b[38;5;28;43mself\u001b[39;49m\u001b[38;5;241;43m.\u001b[39;49m\u001b[43m_send_request\u001b[49m\u001b[43m(\u001b[49m\u001b[43mmethod\u001b[49m\u001b[43m,\u001b[49m\u001b[43m \u001b[49m\u001b[43murl\u001b[49m\u001b[43m,\u001b[49m\u001b[43m \u001b[49m\u001b[43mbody\u001b[49m\u001b[43m,\u001b[49m\u001b[43m \u001b[49m\u001b[43mheaders\u001b[49m\u001b[43m,\u001b[49m\u001b[43m \u001b[49m\u001b[43mencode_chunked\u001b[49m\u001b[43m)\u001b[49m\n",
      "File \u001b[0;32m~/.pyenv/versions/3.10.2/lib/python3.10/http/client.py:1328\u001b[0m, in \u001b[0;36mHTTPConnection._send_request\u001b[0;34m(self, method, url, body, headers, encode_chunked)\u001b[0m\n\u001b[1;32m   1327\u001b[0m     body \u001b[38;5;241m=\u001b[39m _encode(body, \u001b[38;5;124m'\u001b[39m\u001b[38;5;124mbody\u001b[39m\u001b[38;5;124m'\u001b[39m)\n\u001b[0;32m-> 1328\u001b[0m \u001b[38;5;28;43mself\u001b[39;49m\u001b[38;5;241;43m.\u001b[39;49m\u001b[43mendheaders\u001b[49m\u001b[43m(\u001b[49m\u001b[43mbody\u001b[49m\u001b[43m,\u001b[49m\u001b[43m \u001b[49m\u001b[43mencode_chunked\u001b[49m\u001b[38;5;241;43m=\u001b[39;49m\u001b[43mencode_chunked\u001b[49m\u001b[43m)\u001b[49m\n",
      "File \u001b[0;32m~/.pyenv/versions/3.10.2/lib/python3.10/http/client.py:1277\u001b[0m, in \u001b[0;36mHTTPConnection.endheaders\u001b[0;34m(self, message_body, encode_chunked)\u001b[0m\n\u001b[1;32m   1276\u001b[0m     \u001b[38;5;28;01mraise\u001b[39;00m CannotSendHeader()\n\u001b[0;32m-> 1277\u001b[0m \u001b[38;5;28;43mself\u001b[39;49m\u001b[38;5;241;43m.\u001b[39;49m\u001b[43m_send_output\u001b[49m\u001b[43m(\u001b[49m\u001b[43mmessage_body\u001b[49m\u001b[43m,\u001b[49m\u001b[43m \u001b[49m\u001b[43mencode_chunked\u001b[49m\u001b[38;5;241;43m=\u001b[39;49m\u001b[43mencode_chunked\u001b[49m\u001b[43m)\u001b[49m\n",
      "File \u001b[0;32m~/.pyenv/versions/3.10.2/lib/python3.10/http/client.py:1037\u001b[0m, in \u001b[0;36mHTTPConnection._send_output\u001b[0;34m(self, message_body, encode_chunked)\u001b[0m\n\u001b[1;32m   1036\u001b[0m \u001b[38;5;28;01mdel\u001b[39;00m \u001b[38;5;28mself\u001b[39m\u001b[38;5;241m.\u001b[39m_buffer[:]\n\u001b[0;32m-> 1037\u001b[0m \u001b[38;5;28;43mself\u001b[39;49m\u001b[38;5;241;43m.\u001b[39;49m\u001b[43msend\u001b[49m\u001b[43m(\u001b[49m\u001b[43mmsg\u001b[49m\u001b[43m)\u001b[49m\n\u001b[1;32m   1039\u001b[0m \u001b[38;5;28;01mif\u001b[39;00m message_body \u001b[38;5;129;01mis\u001b[39;00m \u001b[38;5;129;01mnot\u001b[39;00m \u001b[38;5;28;01mNone\u001b[39;00m:\n\u001b[1;32m   1040\u001b[0m \n\u001b[1;32m   1041\u001b[0m     \u001b[38;5;66;03m# create a consistent interface to message_body\u001b[39;00m\n",
      "File \u001b[0;32m~/.pyenv/versions/3.10.2/lib/python3.10/http/client.py:975\u001b[0m, in \u001b[0;36mHTTPConnection.send\u001b[0;34m(self, data)\u001b[0m\n\u001b[1;32m    974\u001b[0m \u001b[38;5;28;01mif\u001b[39;00m \u001b[38;5;28mself\u001b[39m\u001b[38;5;241m.\u001b[39mauto_open:\n\u001b[0;32m--> 975\u001b[0m     \u001b[38;5;28;43mself\u001b[39;49m\u001b[38;5;241;43m.\u001b[39;49m\u001b[43mconnect\u001b[49m\u001b[43m(\u001b[49m\u001b[43m)\u001b[49m\n\u001b[1;32m    976\u001b[0m \u001b[38;5;28;01melse\u001b[39;00m:\n",
      "File \u001b[0;32m~/.pyenv/versions/3.10.2/lib/python3.10/http/client.py:941\u001b[0m, in \u001b[0;36mHTTPConnection.connect\u001b[0;34m(self)\u001b[0m\n\u001b[1;32m    940\u001b[0m sys\u001b[38;5;241m.\u001b[39maudit(\u001b[38;5;124m\"\u001b[39m\u001b[38;5;124mhttp.client.connect\u001b[39m\u001b[38;5;124m\"\u001b[39m, \u001b[38;5;28mself\u001b[39m, \u001b[38;5;28mself\u001b[39m\u001b[38;5;241m.\u001b[39mhost, \u001b[38;5;28mself\u001b[39m\u001b[38;5;241m.\u001b[39mport)\n\u001b[0;32m--> 941\u001b[0m \u001b[38;5;28mself\u001b[39m\u001b[38;5;241m.\u001b[39msock \u001b[38;5;241m=\u001b[39m \u001b[38;5;28;43mself\u001b[39;49m\u001b[38;5;241;43m.\u001b[39;49m\u001b[43m_create_connection\u001b[49m\u001b[43m(\u001b[49m\n\u001b[1;32m    942\u001b[0m \u001b[43m    \u001b[49m\u001b[43m(\u001b[49m\u001b[38;5;28;43mself\u001b[39;49m\u001b[38;5;241;43m.\u001b[39;49m\u001b[43mhost\u001b[49m\u001b[43m,\u001b[49m\u001b[38;5;28;43mself\u001b[39;49m\u001b[38;5;241;43m.\u001b[39;49m\u001b[43mport\u001b[49m\u001b[43m)\u001b[49m\u001b[43m,\u001b[49m\u001b[43m \u001b[49m\u001b[38;5;28;43mself\u001b[39;49m\u001b[38;5;241;43m.\u001b[39;49m\u001b[43mtimeout\u001b[49m\u001b[43m,\u001b[49m\u001b[43m \u001b[49m\u001b[38;5;28;43mself\u001b[39;49m\u001b[38;5;241;43m.\u001b[39;49m\u001b[43msource_address\u001b[49m\u001b[43m)\u001b[49m\n\u001b[1;32m    943\u001b[0m \u001b[38;5;66;03m# Might fail in OSs that don't implement TCP_NODELAY\u001b[39;00m\n",
      "File \u001b[0;32m~/.pyenv/versions/3.10.2/lib/python3.10/socket.py:845\u001b[0m, in \u001b[0;36mcreate_connection\u001b[0;34m(address, timeout, source_address)\u001b[0m\n\u001b[1;32m    844\u001b[0m \u001b[38;5;28;01mtry\u001b[39;00m:\n\u001b[0;32m--> 845\u001b[0m     \u001b[38;5;28;01mraise\u001b[39;00m err\n\u001b[1;32m    846\u001b[0m \u001b[38;5;28;01mfinally\u001b[39;00m:\n\u001b[1;32m    847\u001b[0m     \u001b[38;5;66;03m# Break explicitly a reference cycle\u001b[39;00m\n",
      "File \u001b[0;32m~/.pyenv/versions/3.10.2/lib/python3.10/socket.py:833\u001b[0m, in \u001b[0;36mcreate_connection\u001b[0;34m(address, timeout, source_address)\u001b[0m\n\u001b[1;32m    832\u001b[0m     sock\u001b[38;5;241m.\u001b[39mbind(source_address)\n\u001b[0;32m--> 833\u001b[0m \u001b[43msock\u001b[49m\u001b[38;5;241;43m.\u001b[39;49m\u001b[43mconnect\u001b[49m\u001b[43m(\u001b[49m\u001b[43msa\u001b[49m\u001b[43m)\u001b[49m\n\u001b[1;32m    834\u001b[0m \u001b[38;5;66;03m# Break explicitly a reference cycle\u001b[39;00m\n",
      "\u001b[0;31mTimeoutError\u001b[0m: timed out",
      "\nDuring handling of the above exception, another exception occurred:\n",
      "\u001b[0;31mURLError\u001b[0m                                  Traceback (most recent call last)",
      "Cell \u001b[0;32mIn [60], line 22\u001b[0m\n\u001b[1;32m     21\u001b[0m \u001b[38;5;28;01mtry\u001b[39;00m:\n\u001b[0;32m---> 22\u001b[0m      response4 \u001b[38;5;241m=\u001b[39m \u001b[43mrequest\u001b[49m\u001b[38;5;241;43m.\u001b[39;49m\u001b[43murlopen\u001b[49m\u001b[43m(\u001b[49m\u001b[38;5;124;43m'\u001b[39;49m\u001b[38;5;124;43mhttp://httpbin.org/get\u001b[39;49m\u001b[38;5;124;43m'\u001b[39;49m\u001b[43m,\u001b[49m\u001b[43m \u001b[49m\u001b[43mtimeout\u001b[49m\u001b[38;5;241;43m=\u001b[39;49m\u001b[38;5;241;43m0.1\u001b[39;49m\u001b[43m)\u001b[49m\n\u001b[1;32m     23\u001b[0m \u001b[38;5;28;01mexcept\u001b[39;00m urllib\u001b[38;5;241m.\u001b[39merror\u001b[38;5;241m.\u001b[39mURLError \u001b[38;5;28;01mas\u001b[39;00m e:\n",
      "File \u001b[0;32m~/.pyenv/versions/3.10.2/lib/python3.10/urllib/request.py:216\u001b[0m, in \u001b[0;36murlopen\u001b[0;34m(url, data, timeout, cafile, capath, cadefault, context)\u001b[0m\n\u001b[1;32m    215\u001b[0m     opener \u001b[38;5;241m=\u001b[39m _opener\n\u001b[0;32m--> 216\u001b[0m \u001b[38;5;28;01mreturn\u001b[39;00m \u001b[43mopener\u001b[49m\u001b[38;5;241;43m.\u001b[39;49m\u001b[43mopen\u001b[49m\u001b[43m(\u001b[49m\u001b[43murl\u001b[49m\u001b[43m,\u001b[49m\u001b[43m \u001b[49m\u001b[43mdata\u001b[49m\u001b[43m,\u001b[49m\u001b[43m \u001b[49m\u001b[43mtimeout\u001b[49m\u001b[43m)\u001b[49m\n",
      "File \u001b[0;32m~/.pyenv/versions/3.10.2/lib/python3.10/urllib/request.py:519\u001b[0m, in \u001b[0;36mOpenerDirector.open\u001b[0;34m(self, fullurl, data, timeout)\u001b[0m\n\u001b[1;32m    518\u001b[0m sys\u001b[38;5;241m.\u001b[39maudit(\u001b[38;5;124m'\u001b[39m\u001b[38;5;124murllib.Request\u001b[39m\u001b[38;5;124m'\u001b[39m, req\u001b[38;5;241m.\u001b[39mfull_url, req\u001b[38;5;241m.\u001b[39mdata, req\u001b[38;5;241m.\u001b[39mheaders, req\u001b[38;5;241m.\u001b[39mget_method())\n\u001b[0;32m--> 519\u001b[0m response \u001b[38;5;241m=\u001b[39m \u001b[38;5;28;43mself\u001b[39;49m\u001b[38;5;241;43m.\u001b[39;49m\u001b[43m_open\u001b[49m\u001b[43m(\u001b[49m\u001b[43mreq\u001b[49m\u001b[43m,\u001b[49m\u001b[43m \u001b[49m\u001b[43mdata\u001b[49m\u001b[43m)\u001b[49m\n\u001b[1;32m    521\u001b[0m \u001b[38;5;66;03m# post-process response\u001b[39;00m\n",
      "File \u001b[0;32m~/.pyenv/versions/3.10.2/lib/python3.10/urllib/request.py:536\u001b[0m, in \u001b[0;36mOpenerDirector._open\u001b[0;34m(self, req, data)\u001b[0m\n\u001b[1;32m    535\u001b[0m protocol \u001b[38;5;241m=\u001b[39m req\u001b[38;5;241m.\u001b[39mtype\n\u001b[0;32m--> 536\u001b[0m result \u001b[38;5;241m=\u001b[39m \u001b[38;5;28;43mself\u001b[39;49m\u001b[38;5;241;43m.\u001b[39;49m\u001b[43m_call_chain\u001b[49m\u001b[43m(\u001b[49m\u001b[38;5;28;43mself\u001b[39;49m\u001b[38;5;241;43m.\u001b[39;49m\u001b[43mhandle_open\u001b[49m\u001b[43m,\u001b[49m\u001b[43m \u001b[49m\u001b[43mprotocol\u001b[49m\u001b[43m,\u001b[49m\u001b[43m \u001b[49m\u001b[43mprotocol\u001b[49m\u001b[43m \u001b[49m\u001b[38;5;241;43m+\u001b[39;49m\n\u001b[1;32m    537\u001b[0m \u001b[43m                          \u001b[49m\u001b[38;5;124;43m'\u001b[39;49m\u001b[38;5;124;43m_open\u001b[39;49m\u001b[38;5;124;43m'\u001b[39;49m\u001b[43m,\u001b[49m\u001b[43m \u001b[49m\u001b[43mreq\u001b[49m\u001b[43m)\u001b[49m\n\u001b[1;32m    538\u001b[0m \u001b[38;5;28;01mif\u001b[39;00m result:\n",
      "File \u001b[0;32m~/.pyenv/versions/3.10.2/lib/python3.10/urllib/request.py:496\u001b[0m, in \u001b[0;36mOpenerDirector._call_chain\u001b[0;34m(self, chain, kind, meth_name, *args)\u001b[0m\n\u001b[1;32m    495\u001b[0m func \u001b[38;5;241m=\u001b[39m \u001b[38;5;28mgetattr\u001b[39m(handler, meth_name)\n\u001b[0;32m--> 496\u001b[0m result \u001b[38;5;241m=\u001b[39m \u001b[43mfunc\u001b[49m\u001b[43m(\u001b[49m\u001b[38;5;241;43m*\u001b[39;49m\u001b[43margs\u001b[49m\u001b[43m)\u001b[49m\n\u001b[1;32m    497\u001b[0m \u001b[38;5;28;01mif\u001b[39;00m result \u001b[38;5;129;01mis\u001b[39;00m \u001b[38;5;129;01mnot\u001b[39;00m \u001b[38;5;28;01mNone\u001b[39;00m:\n",
      "File \u001b[0;32m~/.pyenv/versions/3.10.2/lib/python3.10/urllib/request.py:1377\u001b[0m, in \u001b[0;36mHTTPHandler.http_open\u001b[0;34m(self, req)\u001b[0m\n\u001b[1;32m   1376\u001b[0m \u001b[38;5;28;01mdef\u001b[39;00m \u001b[38;5;21mhttp_open\u001b[39m(\u001b[38;5;28mself\u001b[39m, req):\n\u001b[0;32m-> 1377\u001b[0m     \u001b[38;5;28;01mreturn\u001b[39;00m \u001b[38;5;28;43mself\u001b[39;49m\u001b[38;5;241;43m.\u001b[39;49m\u001b[43mdo_open\u001b[49m\u001b[43m(\u001b[49m\u001b[43mhttp\u001b[49m\u001b[38;5;241;43m.\u001b[39;49m\u001b[43mclient\u001b[49m\u001b[38;5;241;43m.\u001b[39;49m\u001b[43mHTTPConnection\u001b[49m\u001b[43m,\u001b[49m\u001b[43m \u001b[49m\u001b[43mreq\u001b[49m\u001b[43m)\u001b[49m\n",
      "File \u001b[0;32m~/.pyenv/versions/3.10.2/lib/python3.10/urllib/request.py:1351\u001b[0m, in \u001b[0;36mAbstractHTTPHandler.do_open\u001b[0;34m(self, http_class, req, **http_conn_args)\u001b[0m\n\u001b[1;32m   1350\u001b[0m \u001b[38;5;28;01mexcept\u001b[39;00m \u001b[38;5;167;01mOSError\u001b[39;00m \u001b[38;5;28;01mas\u001b[39;00m err: \u001b[38;5;66;03m# timeout error\u001b[39;00m\n\u001b[0;32m-> 1351\u001b[0m     \u001b[38;5;28;01mraise\u001b[39;00m URLError(err)\n\u001b[1;32m   1352\u001b[0m r \u001b[38;5;241m=\u001b[39m h\u001b[38;5;241m.\u001b[39mgetresponse()\n",
      "\u001b[0;31mURLError\u001b[0m: <urlopen error timed out>",
      "\nDuring handling of the above exception, another exception occurred:\n",
      "\u001b[0;31mNameError\u001b[0m                                 Traceback (most recent call last)",
      "Cell \u001b[0;32mIn [60], line 23\u001b[0m\n\u001b[1;32m     21\u001b[0m \u001b[38;5;28;01mtry\u001b[39;00m:\n\u001b[1;32m     22\u001b[0m      response4 \u001b[38;5;241m=\u001b[39m request\u001b[38;5;241m.\u001b[39murlopen(\u001b[38;5;124m'\u001b[39m\u001b[38;5;124mhttp://httpbin.org/get\u001b[39m\u001b[38;5;124m'\u001b[39m, timeout\u001b[38;5;241m=\u001b[39m\u001b[38;5;241m0.1\u001b[39m)\n\u001b[0;32m---> 23\u001b[0m \u001b[38;5;28;01mexcept\u001b[39;00m \u001b[43murllib\u001b[49m\u001b[38;5;241m.\u001b[39merror\u001b[38;5;241m.\u001b[39mURLError \u001b[38;5;28;01mas\u001b[39;00m e:\n\u001b[1;32m     24\u001b[0m      \u001b[38;5;28;01mif\u001b[39;00m \u001b[38;5;28misinstance\u001b[39m(e\u001b[38;5;241m.\u001b[39mreason, socket\u001b[38;5;241m.\u001b[39mtimeout):\n\u001b[1;32m     25\u001b[0m          \u001b[38;5;28mprint\u001b[39m(\u001b[38;5;124m'\u001b[39m\u001b[38;5;124mTIME OUT\u001b[39m\u001b[38;5;124m'\u001b[39m)\n",
      "\u001b[0;31mNameError\u001b[0m: name 'urllib' is not defined"
     ]
    }
   ],
   "source": [
    "# 爬虫\n",
    "# 网页数据采集与 urllib 库\n",
    "# 网络请求库 requests\n",
    "# 格式处理库 BeautifulSoup \n",
    "from urllib import request\n",
    "from urllib import parse\n",
    "\n",
    "url = \"http://www.baidu.com\"\n",
    "response = request.urlopen(url, timeout=1)\n",
    "# print(response.read().decode(\"utf-8\"))\n",
    "\n",
    "# GET 和 POST 请求 \n",
    "# 用于测试的网站：httpbin.org\n",
    "response2 =request.urlopen(\"http://httpbin.org/get\", timeout=1)\n",
    "# print(response2.read())\n",
    "data = bytes(parse.urlencode({'word':'hello'}), encoding='utf8')\n",
    "response3 = request.urlopen(\"http://httpbin.org/post\", data=data)\n",
    "# print(response3.read())\n",
    "\n",
    "# 关于超时的处理\n",
    "import socket\n",
    "try:\n",
    "     response4 = request.urlopen('http://httpbin.org/get', timeout=0.1)\n",
    "except urllib.error.URLError as e:\n",
    "     if isinstance(e.reason, socket.timeout):\n",
    "         print('TIME OUT')"
   ]
  },
  {
   "cell_type": "code",
   "execution_count": null,
   "id": "c525b40b-0cc6-44fa-9461-98a8133695a7",
   "metadata": {},
   "outputs": [],
   "source": [
    "# 机器学习分类的原理\n",
    "# 类似 ax + by = c 大量数据 x、y 训练\n",
    "# Tensorflow\n",
    "# pip3 install tensorflow 或 pip3 install tensorflow-hub -i http://pypi.douban.com/simple/ --trusted-host pypi.douban.com\n",
    "# 模型参考 github.com/tensorflow/models\n"
   ]
  },
  {
   "cell_type": "code",
   "execution_count": 51,
   "id": "fb0c0fb3-38ff-4b1b-9977-f95e299e439c",
   "metadata": {},
   "outputs": [
    {
     "data": {
      "image/png": "[encoded data removed]",
      "text/plain": [
       "<Figure size 640x480 with 1 Axes>"
      ]
     },
     "metadata": {},
     "output_type": "display_data"
    }
   ],
   "source": [
    "# matplotlib 绘图 pip3 install matplotlib\n",
    "import matplotlib.pyplot as plt\n",
    "\n",
    "# 简单曲线\n",
    "# plt.plot([1, 3, 5], [4, 8, 10])\n",
    "# plt.show()\n",
    "\n",
    "import numpy as np\n",
    "\n",
    "x = np.linspace(-np.pi, np.pi, 100)\n",
    "# plt.plot(x, np.sin(x))\n",
    "# plt.show()\n",
    "\n",
    "# 多条曲线\n",
    "y = np.linspace(-np.pi * 2, np.pi * 2, 100)\n",
    "# plt.figure(1, dpi=50) # 创建图表\n",
    "# for i in range(1, 5): # 画 4 条线\n",
    "#     plt.plot(x, np.sin(x /i))\n",
    "# plt.show()\n",
    "\n",
    "# 绘制直方图\n",
    "# plt.figure(1, dpi=50)\n",
    "# data = [1, 1, 1, 2, 2, 2, 3, 3, 4, 5, 5, 6, 4]\n",
    "# plt.hist(data)\n",
    "# plt.show()\n",
    "\n",
    "# 绘制散点图\n",
    "z = np.arange(1, 10)\n",
    "zz = z\n",
    "fig = plt.figure()\n",
    "plt.scatter(z, zz, c='r', marker='o') # c='r'表示散点的颜色为红色，marker表示指定三点多形状为圆形\n",
    "plt.show()"
   ]
  },
  {
   "cell_type": "code",
   "execution_count": 44,
   "id": "ac41f2b9-b96f-432a-95b7-1bfb646a1689",
   "metadata": {},
   "outputs": [
    {
     "name": "stdout",
     "output_type": "stream",
     "text": [
      "a  1    0.713235\n",
      "   2   -0.250892\n",
      "   3    0.133863\n",
      "b  1   -0.390086\n",
      "   2    0.208574\n",
      "   3    0.526102\n",
      "c  1   -0.387610\n",
      "   2   -0.534982\n",
      "d  2    0.103949\n",
      "   3   -0.870746\n",
      "dtype: float64\n",
      "1   -0.390086\n",
      "2    0.208574\n",
      "3    0.526102\n",
      "dtype: float64\n",
      "b  1   -0.390086\n",
      "   2    0.208574\n",
      "   3    0.526102\n",
      "c  1   -0.387610\n",
      "   2   -0.534982\n",
      "dtype: float64\n",
      "          1         2         3\n",
      "a  0.713235 -0.250892  0.133863\n",
      "b -0.390086  0.208574  0.526102\n",
      "c -0.387610 -0.534982       NaN\n",
      "d       NaN  0.103949 -0.870746\n",
      "a  1    0.713235\n",
      "   2   -0.250892\n",
      "   3    0.133863\n",
      "b  1   -0.390086\n",
      "   2    0.208574\n",
      "   3    0.526102\n",
      "c  1   -0.387610\n",
      "   2   -0.534982\n",
      "d  2    0.103949\n",
      "   3   -0.870746\n",
      "dtype: float64\n"
     ]
    }
   ],
   "source": [
    "# pandas\n",
    "# 数据处理 - pip3 install pandas\n",
    "from pandas import Series, DataFrame\n",
    "# import pandas as pd\n",
    "\n",
    "# 一维数组（自动添加索引）\n",
    "obj = Series([4, 5, 6, -7])\n",
    "# print(obj)\n",
    "# print(obj.index)\n",
    "# print(obj.values)\n",
    "# 指定索引\n",
    "obj2 = Series([4, 5, 6, -7], index=['a', 'b', 'c', 'd'])\n",
    "# print(obj2)\n",
    "obj2['a'] = 6\n",
    "# print(obj2)\n",
    "# print('a' in obj2)\n",
    "sdata = {\"beijing\": 10000, \"shenzhen\": 2000}\n",
    "obj3 = Series(sdata)\n",
    "# print(obj3)\n",
    "# 修改索引\n",
    "obj3.index = [\"bj\", 'sz'];\n",
    "# print(obj3)\n",
    "\n",
    "# 多维数组\n",
    "data = {\"city\": [\"bj\", \"sz\"], \"click\": [10000, 2000]}\n",
    "frame = DataFrame(data)\n",
    "# print(frame)\n",
    "# 指定排序\n",
    "frame2 = DataFrame(data, columns=[\"city\"])\n",
    "# print(frame2)\n",
    "# print(frame2[\"city\"])\n",
    "# print(frame2.city)\n",
    "# 插入新列并赋值\n",
    "frame2[\"new\"] = 100\n",
    "# print(frame2)\n",
    "# 插入列增加条件过滤\n",
    "frame2[\"cap\"] = frame2.city  == \"bj\"\n",
    "# print(frame2)\n",
    "# 行列互换\n",
    "# print(frame2.T)\n",
    "\n",
    "# 重新索引\n",
    "obj4 = Series([1,2,3], index=[\"b\", \"c\", \"a\"])\n",
    "# print(obj4)\n",
    "# 不存在的索引会赋予 NaN\n",
    "obj5 = obj4.reindex([\"a\", \"b\", \"c\", \"d\"])\n",
    "# print(obj5)\n",
    "# 不存在的索引会赋予 NaN，也可以指定填充值\n",
    "obj6 = obj4.reindex([\"a\", \"b\", \"c\", \"d\"], fill_value = 0)\n",
    "# print(obj6)\n",
    "# 也可以填充上一个索引值/下一个索引值\n",
    "obj7 = Series([\"blue\", \"red\", \"green\"], index=[0, 2, 4])\n",
    "# print(obj7.reindex(range(6), method=\"ffill\"))\n",
    "# print(obj7.reindex(range(6), method=\"bfill\"))\n",
    "\n",
    "from numpy import nan as NA\n",
    "# 删除缺失值\n",
    "data2 = Series([1, NA, 2])\n",
    "# print(data2.dropna())\n",
    "# 存在 NA 的都会被删除\n",
    "data3 = DataFrame([[1., 6.5, 3], [1., NA, NA], [NA, NA, NA]])\n",
    "# print(data3.dropna())\n",
    "# 删除全为 NA 的\n",
    "# print(data3.dropna(how=\"all\"))\n",
    "# 删除整列都是 NA 的\n",
    "data3[4] = NA\n",
    "# print(data3)\n",
    "# print(data3.dropna(axis=1, how=\"all\"))\n",
    "# 填充 NA 值\n",
    "# print(data3.fillna(0))\n",
    "# 直接操作 data3 的 NA 值填充\n",
    "# print(data3)\n",
    "data3.fillna(0, inplace=True)\n",
    "# print(data3)\n",
    "\n",
    "# 层次化索引\n",
    "import numpy as np\n",
    "data4 = Series(np.random.randn(10), index=[['a', 'a', 'a', 'b', 'b', 'b', 'c', 'c', 'd', 'd'], [1, 2, 3, 1, 2, 3, 1, 2, 2, 3]])\n",
    "print(data4)\n",
    "print(data4['b'])\n",
    "print(data4['b': 'c'])\n",
    "# 转化成二维的数据\n",
    "print(data4.unstack())\n",
    "# 转化回来\n",
    "print(data4.unstack().stack())"
   ]
  },
  {
   "cell_type": "code",
   "execution_count": 16,
   "id": "b401ce4e-a968-4766-bdf5-e78d19879144",
   "metadata": {},
   "outputs": [
    {
     "name": "stdout",
     "output_type": "stream",
     "text": [
      "[1 2 3]\n",
      "int64\n",
      "float64\n",
      "[2.1 4.2 6.3]\n",
      "[11. 22. 33.]\n",
      "[[1 2 3]\n",
      " [4 5 6]]\n",
      "int64\n",
      "[0. 0. 0. 0. 0. 0. 0. 0. 0. 0.]\n",
      "[[0. 0. 0. 0. 0.]\n",
      " [0. 0. 0. 0. 0.]\n",
      " [0. 0. 0. 0. 0.]]\n",
      "[[1. 1. 1. 1. 1.]\n",
      " [1. 1. 1. 1. 1.]\n",
      " [1. 1. 1. 1. 1.]]\n",
      "[[[1.]\n",
      "  [1.]\n",
      "  [1.]\n",
      "  [1.]\n",
      "  [1.]]\n",
      "\n",
      " [[1.]\n",
      "  [1.]\n",
      "  [1.]\n",
      "  [1.]\n",
      "  [1.]]\n",
      "\n",
      " [[1.]\n",
      "  [1.]\n",
      "  [1.]\n",
      "  [1.]\n",
      "  [1.]]]\n",
      "[5 6 7]\n",
      "[ 0  1  2  3  4 10 10 10  8  9]\n",
      "[15 15 15]\n",
      "[ 0  1  2  3  4 10 10 10  8  9]\n"
     ]
    }
   ],
   "source": [
    "# numpy\n",
    "# 数据采集 - 数据预处理 pip3 install numpy\n",
    "import numpy as np\n",
    "\n",
    "arr1 = np.array([1,2,3])\n",
    "print(arr1)\n",
    "print(arr1.dtype)\n",
    "\n",
    "arr2 = np.array([1.1, 2.2, 3.3])\n",
    "print(arr2.dtype)\n",
    "# 逐个累加\n",
    "print(arr1 + arr2)\n",
    "# 逐个*10\n",
    "print(arr2 * 10)\n",
    "\n",
    "data = [[1,2,3], [4,5,6]]\n",
    "arr3 = np.array(data)\n",
    "# 列表转化\n",
    "print(arr3)\n",
    "print(arr3.dtype)\n",
    "\n",
    "# 生成&填充\n",
    "print(np.zeros(10))\n",
    "print(np.zeros((3, 5)))\n",
    "print(np.ones((3, 5)))\n",
    "print(np.empty((3, 5, 1)))\n",
    "\n",
    "# 切片\n",
    "arr4 = np.arange(10)\n",
    "print(arr4[5:8])\n",
    "arr4[5:8] = 10\n",
    "print(arr4)\n",
    "arr_slice = arr4[5:8].copy()\n",
    "arr_slice[:] = 15\n",
    "print(arr_slice)\n",
    "print(arr4)"
   ]
  },
  {
   "cell_type": "code",
   "execution_count": 9,
   "id": "76e7e66c-117e-48ef-afcd-244a535b2334",
   "metadata": {},
   "outputs": [
    {
     "name": "stdout",
     "output_type": "stream",
     "text": [
      "/Users/yuanqi/www/mine/note/backend/python/reporn\n",
      "True\n",
      "True\n",
      "/tmp/a/b/c\n",
      "/Users/yuanqi/www/mine/note/backend/python/reporn\n",
      "True\n"
     ]
    }
   ],
   "source": [
    "# 命令行文件、文件夹操作\n",
    "import os\n",
    "from pathlib import Path\n",
    "\n",
    "print(os.path.abspath(''))\n",
    "print(os.path.exists(\"/Users\"))\n",
    "print(os.path.isdir(\"/Users\"))\n",
    "print(os.path.join(\"/tmp/a/\", \"b/c\"))\n",
    "\n",
    "p = Path(\".\")\n",
    "print(p.resolve())\n",
    "print(p.is_dir())\n",
    "# 创建目录，不存在也创建\n",
    "# Path.mkdir(Path(\"/tmp/a/b/c\", parents=True))"
   ]
  },
  {
   "cell_type": "code",
   "execution_count": null,
   "id": "02c77618-c9c9-479b-8531-f9f7ff404e62",
   "metadata": {},
   "outputs": [],
   "source": [
    "# 数学相关库\n",
    "import math\n",
    "import random\n",
    "\n",
    "print(math.sin(60))\n",
    "\n",
    "print(random.randint(1, 10))\n",
    "print(random.choice(['a', 'b', 'c']))"
   ]
  },
  {
   "cell_type": "code",
   "execution_count": 2,
   "id": "a08caf75-7f97-4679-b6ac-73997f9314b0",
   "metadata": {},
   "outputs": [
    {
     "name": "stdout",
     "output_type": "stream",
     "text": [
      "1671545486.066412\n",
      "time.struct_time(tm_year=2022, tm_mon=12, tm_mday=20, tm_hour=22, tm_min=11, tm_sec=26, tm_wday=1, tm_yday=354, tm_isdst=0)\n",
      "2022-12-20 22:11:26\n",
      "2022-12-20 22:11:26.067202\n",
      "2022-12-20 22:21:26.067411\n",
      "2022-10-20 00:00:00\n"
     ]
    }
   ],
   "source": [
    "# 常用库：日期与时间\n",
    "import time\n",
    "import datetime\n",
    "\n",
    "print(time.time())\n",
    "print(time.localtime())\n",
    "print(time.strftime('%Y-%m-%d %H:%M:%S'))\n",
    "\n",
    "print(datetime.datetime.now())\n",
    "# 10分钟后\n",
    "new_time = datetime.timedelta(minutes=10)\n",
    "print(datetime.datetime.now()+new_time)\n",
    "\n",
    "one_day = datetime.datetime(2022, 10, 10)\n",
    "# 指定日期10天后\n",
    "new_date = datetime.timedelta(days=10)\n",
    "print(one_day + new_date)"
   ]
  },
  {
   "cell_type": "code",
   "execution_count": 3,
   "id": "c4a66210-ef74-4a3a-b801-8c5aac408ec6",
   "metadata": {},
   "outputs": [
    {
     "name": "stdout",
     "output_type": "stream",
     "text": [
      "<re.Match object; span=(0, 3), match='abc'>\n",
      "<re.Match object; span=(0, 6), match='abcabc'>\n",
      "2022\n",
      "2022-12-19\n",
      "('2022', '12', '19')\n",
      "('2022', '03', '23')\n",
      "123456789 \n"
     ]
    }
   ],
   "source": [
    "# 标准库（Python 自带的）\n",
    "# https://docs.python.org/zh-cn/3/library/index.html\n",
    "\n",
    "# 常用库：re 正则表达式\n",
    "import re\n",
    "\n",
    "# match 匹配\n",
    "p1 = re.compile(\"abc\")\n",
    "print(p1.match(\"abcabc\"))\n",
    "\n",
    "p2 = re.compile(\"a.*\")\n",
    "print(p2.match(\"abcabc\"))\n",
    "\n",
    "p3 = re.compile(r\"(\\d+)-(\\d+)-(\\d+)\")\n",
    "print(p3.match(\"2022-12-19\").group(1))\n",
    "print(p3.match(\"2022-12-19\").group())\n",
    "print(p3.match(\"2022-12-19\").groups())\n",
    "\n",
    "# search 搜索\n",
    "print(p3.search(\"aaa2022-03-23kkkk\").groups())\n",
    "# 对比 match，完全匹配后分组，匹配出错\n",
    "# print(p3.match(\"aaa2022-03-23kkkk\").groups())\n",
    "\n",
    "# sub 替换\n",
    "phone = \"123456789 # phone\"\n",
    "p4 = re.sub(r\"#.*$\", \"\", phone)\n",
    "print(p4)"
   ]
  },
  {
   "cell_type": "code",
   "execution_count": 11,
   "id": "1ebdc912-89f5-4d2d-84d3-15e34baffea0",
   "metadata": {},
   "outputs": [
    {
     "name": "stdout",
     "output_type": "stream",
     "text": [
      "生产者 p1 生产了数据 89\n",
      "生产者 p2 生产了数据 29\n",
      "消费者 c1 消耗了数据 89\n"
     ]
    },
    {
     "name": "stderr",
     "output_type": "stream",
     "text": [
      "/var/folders/c7/tkc6k80j74g0xrsww28hdklw0000gn/T/ipykernel_58946/3562516584.py:20: DeprecationWarning: getName() is deprecated, get the name attribute instead\n",
      "  name = current_thread().getName()\n",
      "/var/folders/c7/tkc6k80j74g0xrsww28hdklw0000gn/T/ipykernel_58946/3562516584.py:34: DeprecationWarning: getName() is deprecated, get the name attribute instead\n",
      "  name = current_thread().getName()\n"
     ]
    }
   ],
   "source": [
    "# 经典的生产者和消费者问题\n",
    "# import queue\n",
    "\n",
    "# q = queue.Queue()\n",
    "# q.put(1)\n",
    "# q.put(2)\n",
    "# q.put(3)\n",
    "# print(q.get())\n",
    "# print(q.get())\n",
    "# print(q.get())\n",
    "from threading import Thread, current_thread\n",
    "import random\n",
    "import time\n",
    "from queue import Queue\n",
    "\n",
    "queue = Queue(5)\n",
    "\n",
    "class ProducterThread(Thread):\n",
    "    def run(self):\n",
    "        name = current_thread().getName()\n",
    "        nums = range(100)\n",
    "        global queue\n",
    "        while True:\n",
    "            num = random.choice(nums)\n",
    "            queue.put(num)\n",
    "            print('生产者 %s 生产了数据 %s' % (name, num))\n",
    "            t = random.randint(1, 3)\n",
    "            time.sleep(t)\n",
    "            print('生产者 %s 休眠了 %s 秒' % (name, t))\n",
    "\n",
    "\n",
    "class ConsumerThread(Thread):\n",
    "    def run(self):\n",
    "        name = current_thread().getName()\n",
    "        global queue\n",
    "        while True:\n",
    "            num = queue.get()\n",
    "            queue.task_done()\n",
    "            print('消费者 %s 消耗了数据 %s' % (name, num))\n",
    "            t = random.randint(1, 5)\n",
    "            time.sleep(t)\n",
    "            print('消费者 %s 休眠了 %s 秒' % (name, t))\n",
    "\n",
    "\n",
    "p1 = ProducterThread(name='p1')\n",
    "# p1.start()\n",
    "p2 = ProducterThread(name='p2')\n",
    "# p2.start()\n",
    "c1 = ConsumerThread(name='c1')\n",
    "# c1.start()"
   ]
  },
  {
   "cell_type": "code",
   "execution_count": 4,
   "id": "f5bf5dcd-20bc-402b-9c5b-0854c856f327",
   "metadata": {},
   "outputs": [
    {
     "name": "stdout",
     "output_type": "stream",
     "text": [
      "Thread-5 start\n",
      "run\n",
      "Thread-5 stop\n",
      "MainThread end\n"
     ]
    },
    {
     "name": "stderr",
     "output_type": "stream",
     "text": [
      "/var/folders/c7/tkc6k80j74g0xrsww28hdklw0000gn/T/ipykernel_65349/1531178818.py:22: DeprecationWarning: getName() is deprecated, get the name attribute instead\n",
      "  print(current_thread().getName(), \"start\")\n",
      "/var/folders/c7/tkc6k80j74g0xrsww28hdklw0000gn/T/ipykernel_65349/1531178818.py:24: DeprecationWarning: getName() is deprecated, get the name attribute instead\n",
      "  print(current_thread().getName(), \"stop\")\n",
      "/var/folders/c7/tkc6k80j74g0xrsww28hdklw0000gn/T/ipykernel_65349/1531178818.py:30: DeprecationWarning: getName() is deprecated, get the name attribute instead\n",
      "  print(current_thread().getName(), \"end\")\n"
     ]
    }
   ],
   "source": [
    "# 并发编程\n",
    "import threading\n",
    "from threading import current_thread\n",
    "import time\n",
    "\n",
    "# def my_thread(arg1, arg2):\n",
    "#     print(current_thread().getName(), \"start\")\n",
    "#     print(\"%s %s\" % (arg1, arg2))\n",
    "#     time.sleep(1)\n",
    "#     print(current_thread().getName(), \"stop\")\n",
    "\n",
    "# for i in range(1, 6, 1):\n",
    "#     # t = my_thread(i, i+1)\n",
    "#     t = threading.Thread(target=my_thread, args=(i, i+1))\n",
    "#     t.start()\n",
    "\n",
    "# print(current_thread().getName(), \"end\")\n",
    "\n",
    "# 加入线程等待结束再执行后续代码（end）\n",
    "class Mythread(threading.Thread):\n",
    "    def run(self):\n",
    "        print(current_thread().getName(), \"start\")\n",
    "        print(\"run\")\n",
    "        print(current_thread().getName(), \"stop\")\n",
    "\n",
    "t = Mythread()\n",
    "t.start()\n",
    "t.join()\n",
    "\n",
    "print(current_thread().getName(), \"end\")"
   ]
  },
  {
   "cell_type": "code",
   "execution_count": 13,
   "id": "8bc299fd-6eba-41b2-a29d-d7e1812fd3c5",
   "metadata": {},
   "outputs": [
    {
     "name": "stdout",
     "output_type": "stream",
     "text": [
      "run\n",
      "test\n",
      "err: <traceback object at 0x108d395c0>\n"
     ]
    },
    {
     "ename": "NameError",
     "evalue": "test name err",
     "output_type": "error",
     "traceback": [
      "\u001b[0;31m---------------------------------------------------------------------------\u001b[0m",
      "\u001b[0;31mNameError\u001b[0m                                 Traceback (most recent call last)",
      "Cell \u001b[0;32mIn [13], line 12\u001b[0m\n\u001b[1;32m     10\u001b[0m \u001b[38;5;28;01mwith\u001b[39;00m CustomWith():\n\u001b[1;32m     11\u001b[0m     \u001b[38;5;28mprint\u001b[39m(\u001b[38;5;124m\"\u001b[39m\u001b[38;5;124mtest\u001b[39m\u001b[38;5;124m\"\u001b[39m)\n\u001b[0;32m---> 12\u001b[0m     \u001b[38;5;28;01mraise\u001b[39;00m \u001b[38;5;167;01mNameError\u001b[39;00m(\u001b[38;5;124m\"\u001b[39m\u001b[38;5;124mtest name err\u001b[39m\u001b[38;5;124m\"\u001b[39m)\n",
      "\u001b[0;31mNameError\u001b[0m: test name err"
     ]
    },
    {
     "name": "stdout",
     "output_type": "stream",
     "text": [
      "消费者 c1 休眠了 4 秒\n",
      "消费者 c1 消耗了数据 29\n",
      "生产者 p1 休眠了 2 秒\n",
      "生产者 p1 生产了数据 78\n",
      "生产者 p2 休眠了 3 秒\n",
      "生产者 p2 生产了数据 55\n"
     ]
    }
   ],
   "source": [
    "# 自定义with语句\n",
    "class CustomWith():\n",
    "    def __enter__(self):\n",
    "        print(\"run\")\n",
    "    def __exit__(self, exc_type, exc_val, exc_tb):\n",
    "        if exc_tb is None:\n",
    "            print(\"end\")\n",
    "        else:\n",
    "            print(\"err: %s\" % exc_tb)\n",
    "with CustomWith():\n",
    "    print(\"test\")\n",
    "    raise NameError(\"test name err\")"
   ]
  },
  {
   "cell_type": "code",
   "execution_count": 14,
   "id": "08fe9101-85a9-4d02-a22a-06103ba3696a",
   "metadata": {},
   "outputs": [
    {
     "name": "stdout",
     "output_type": "stream",
     "text": [
      "lining: 100\n",
      "lining: 99\n",
      "I am a basketball player, call me jams: 100\n",
      "消费者 c1 休眠了 4 秒\n",
      "消费者 c1 消耗了数据 54\n",
      "生产者 p1 休眠了 3 秒\n",
      "生产者 p1 生产了数据 36\n",
      "生产者 p2 休眠了 3 秒\n",
      "生产者 p2 生产了数据 32\n",
      "消费者 c1 休眠了 2 秒\n",
      "消费者 c1 消耗了数据 87\n",
      "生产者 p2 休眠了 2 秒生产者 p1 休眠了 3 秒\n",
      "生产者 p1 生产了数据 84\n",
      "\n",
      "生产者 p1 休眠了 2 秒\n",
      "消费者 c1 休眠了 4 秒\n",
      "消费者 c1 消耗了数据 78\n",
      "生产者 p2 生产了数据 4\n"
     ]
    }
   ],
   "source": [
    "# 类和实例\n",
    "class Player():\n",
    "    def __init__(self, name, score):\n",
    "        self.name = name\n",
    "        self.score = score\n",
    "    def show_info(self):\n",
    "        print(\"%s: %s\" % (self.name, self.score))\n",
    "    def change_score(self, score):\n",
    "        self.score = score\n",
    "lining = Player(\"lining\", 100)\n",
    "lining.show_info()\n",
    "lining.change_score(99)\n",
    "lining.show_info()\n",
    "# 类的继承\n",
    "class BasketballPlayer(Player):\n",
    "    def show_info(self):\n",
    "        print(\"I am a basketball player, call me %s: %s\" % (self.name, self.score))\n",
    "jams = BasketballPlayer(\"jams\", 100)\n",
    "jams.show_info()"
   ]
  },
  {
   "cell_type": "code",
   "execution_count": null,
   "id": "da729ce5-e544-4f94-98c6-25ab71afd224",
   "metadata": {},
   "outputs": [],
   "source": [
    "# PEP8 编码规范\n",
    "# https://www.python.org/dev/peps/pep-0008/\n",
    "# 工具 autopep8：pip3 install autopep8"
   ]
  },
  {
   "cell_type": "code",
   "execution_count": 15,
   "id": "12c14a12-7af5-4489-acb4-04d8f595ab4d",
   "metadata": {},
   "outputs": [
    {
     "name": "stdout",
     "output_type": "stream",
     "text": [
      "None\n"
     ]
    }
   ],
   "source": [
    "# 模块\n",
    "# 导入模块\n",
    "import os\n",
    "from time import sleep\n",
    "sleep(1)\n",
    "print(os.getenv(\"ENV_MODE\"))\n",
    "\n",
    "# 自定义模块 mymod.py\n",
    "def print_me():\n",
    "    print(\"me\")\n",
    "# import mymod\n",
    "# mymod.print_me()"
   ]
  },
  {
   "cell_type": "code",
   "execution_count": 10,
   "id": "0ce01148-c8a8-40d9-be12-3b049c936795",
   "metadata": {},
   "outputs": [
    {
     "name": "stdout",
     "output_type": "stream",
     "text": [
      "1670940407.580996\n",
      "3.003434896469116\n",
      "运行时间：3.004132032394409 秒\n",
      "start add_module add\n",
      "9\n",
      "end\n",
      "None\n",
      "start sub_module sub\n",
      "5\n",
      "end\n",
      "None\n"
     ]
    }
   ],
   "source": [
    "import time\n",
    "print(time.time())\n",
    "def i_can_sleep():\n",
    "    time.sleep(3)\n",
    "start_time = time.time()\n",
    "i_can_sleep()\n",
    "end_time = time.time()\n",
    "print(end_time-start_time)\n",
    "\n",
    "# 装饰器\n",
    "def timmer(func):\n",
    "    def wrapper():\n",
    "        start_time = time.time()\n",
    "        func()\n",
    "        end_time = time.time()\n",
    "        print(\"运行时间：%s 秒\" % (end_time-start_time))\n",
    "    return wrapper\n",
    "@timmer\n",
    "def i_can_sleep_by_second(second = 3):\n",
    "    time.sleep(second)\n",
    "i_can_sleep_by_second()\n",
    "# 带参数的装饰器\n",
    "def new_tips(argv):\n",
    "    def tips(func):\n",
    "        def nei(a, b):\n",
    "            print(\"start %s %s\" % (argv, func.__name__))\n",
    "            func(a, b)\n",
    "            print(\"end\")\n",
    "        return nei\n",
    "    return tips\n",
    "@new_tips(\"add_module\")\n",
    "def add(a, b):\n",
    "    print(a+b)\n",
    "@new_tips(\"sub_module\")\n",
    "def sub(a, b):\n",
    "    print(a-b)\n",
    "print(add(4, 5))\n",
    "print(sub(8,3))"
   ]
  },
  {
   "cell_type": "code",
   "execution_count": 2,
   "id": "c2d8205c-e812-4948-b37d-72a79180a990",
   "metadata": {},
   "outputs": [
    {
     "name": "stdout",
     "output_type": "stream",
     "text": [
      "2\n",
      "1\n",
      "2\n",
      "3\n",
      "4\n",
      "5\n",
      "5\n"
     ]
    }
   ],
   "source": [
    "# 闭包\n",
    "def sum(num1):\n",
    "    def add(num2):\n",
    "        return num1 + num2\n",
    "    return add\n",
    "print(sum(1)(1))\n",
    "\n",
    "# 闭包的威力\n",
    "def counter():\n",
    "    cnt = [0]\n",
    "    def addOne():\n",
    "        cnt[0] += 1\n",
    "        return cnt[0]\n",
    "    return addOne\n",
    "count = counter()\n",
    "print(count())\n",
    "print(count())\n",
    "print(count())\n",
    "print(count())\n",
    "print(count())\n",
    "\n",
    "def cal(a, b):\n",
    "    return lambda x: a * x + b\n",
    "t = cal(1, 2)\n",
    "print(t(3))"
   ]
  },
  {
   "cell_type": "code",
   "execution_count": 17,
   "id": "d1559b77-37d4-4d51-9154-afd776f27b69",
   "metadata": {},
   "outputs": [
    {
     "name": "stdout",
     "output_type": "stream",
     "text": [
      "2\n",
      "[1, 3, 5, 7, 9]\n",
      "[1, 4, 9, 16, 25, 36, 49, 64, 81]\n",
      "45\n",
      "(1, 4)\n",
      "(2, 5)\n",
      "(3, 6)\n"
     ]
    }
   ],
   "source": [
    "# lambda 表达式\n",
    "sumFunc = lambda num1, num2: num1 + num2\n",
    "print(sumFunc(1, 1))\n",
    "\n",
    "# 内置函数 filter、map、reduce、zip 等\n",
    "numList = range(1, 10)\n",
    "print(list(filter(lambda x: x % 2, numList)))\n",
    "print(list(map(lambda x: x**2, numList)))\n",
    "from functools import reduce\n",
    "print(reduce(lambda x, y: x + y, numList))\n",
    "for i in zip((1,2,3), (4, 5, 6)):\n",
    "    print(i)"
   ]
  },
  {
   "cell_type": "code",
   "execution_count": 11,
   "id": "0c1b68b7-7c83-49b6-8a7d-e4fbdfaa8fde",
   "metadata": {},
   "outputs": [
    {
     "name": "stdout",
     "output_type": "stream",
     "text": [
      "1\n",
      "3\n",
      "5\n",
      "1\n",
      "1.5\n",
      "2.0\n",
      "2.5\n",
      "3.0\n",
      "3.5\n",
      "4.0\n",
      "4.5\n",
      "5.0\n",
      "5.5\n",
      "6.0\n",
      "6.5\n",
      "7.0\n",
      "7.5\n",
      "8.0\n",
      "8.5\n",
      "9.0\n",
      "9.5\n"
     ]
    }
   ],
   "source": [
    "# 迭代器\n",
    "list1 = range(1, 10, 2)\n",
    "it1 = iter(list1)\n",
    "print(next(it1))\n",
    "print(next(it1))\n",
    "print(next(it1))\n",
    "\n",
    "# 生成器（range 支持浮点）\n",
    "def floatRange(start, stop, step):\n",
    "    x = start\n",
    "    while x < stop:\n",
    "        yield x\n",
    "        x += step\n",
    "for i in floatRange(1, 10, 0.5):\n",
    "    print(i)"
   ]
  },
  {
   "cell_type": "code",
   "execution_count": 8,
   "id": "402602ad-0420-4649-8a25-7266e307faf1",
   "metadata": {},
   "outputs": [
    {
     "name": "stdout",
     "output_type": "stream",
     "text": [
      "a= 1\n",
      "b= 2\n",
      "c= 3\n",
      "5\n",
      "123\n"
     ]
    },
    {
     "ename": "NameError",
     "evalue": "name 'var2' is not defined",
     "output_type": "error",
     "traceback": [
      "\u001b[0;31m---------------------------------------------------------------------------\u001b[0m",
      "\u001b[0;31mNameError\u001b[0m                                 Traceback (most recent call last)",
      "Cell \u001b[0;32mIn [8], line 18\u001b[0m\n\u001b[1;32m     16\u001b[0m     var2 \u001b[38;5;241m=\u001b[39m \u001b[38;5;241m456\u001b[39m\n\u001b[1;32m     17\u001b[0m showVar()\n\u001b[0;32m---> 18\u001b[0m \u001b[38;5;28mprint\u001b[39m(\u001b[43mvar2\u001b[49m)\n",
      "\u001b[0;31mNameError\u001b[0m: name 'var2' is not defined"
     ]
    }
   ],
   "source": [
    "# 函数\n",
    "def func(a, b, c):\n",
    "    print('a= %s' % a)\n",
    "    print('b= %s' % b)\n",
    "    print('c= %s' % c)\n",
    "func(1, c=3, b=2)\n",
    "\n",
    "def howLong(first, *others):\n",
    "    return 1 + len(others)\n",
    "print(howLong(1,2,3,4,5))\n",
    "\n",
    "# 函数作用域\n",
    "var1 = 123\n",
    "def showVar():\n",
    "    print(var1)\n",
    "    var2 = 456 # global var2 = 456\n",
    "showVar()\n",
    "# print(var2)"
   ]
  },
  {
   "cell_type": "code",
   "execution_count": 5,
   "id": "b09b4378-a316-4cae-b9b0-09e831801ba2",
   "metadata": {},
   "outputs": [
    {
     "name": "stdout",
     "output_type": "stream",
     "text": [
      "Requirement already satisfied: tinydb in /Users/yuanqi/.pyenv/versions/3.10.2/lib/python3.10/site-packages (4.7.0)\n"
     ]
    },
    {
     "data": {
      "text/plain": [
       "[{'name': 1, 'tel': 123}, {'name': 2, 'tel': 123456}]"
      ]
     },
     "execution_count": 5,
     "metadata": {},
     "output_type": "execute_result"
    }
   ],
   "source": [
    "# 手机通讯录 csv => tinydb\n",
    "! pip3 install tinydb\n",
    "from tinydb import TinyDB\n",
    "db = TinyDB(\"./db.json\")\n",
    "friend_1 = {'name': 1, 'tel': 123}\n",
    "friend_2 = {'name': 2, 'tel': 123456}\n",
    "db.insert_multiple([friend_1, friend_2])\n",
    "db.all()"
   ]
  },
  {
   "cell_type": "code",
   "execution_count": 3,
   "id": "44e260b3-45a7-434f-a999-f8d68f8dcf8e",
   "metadata": {},
   "outputs": [
    {
     "name": "stdout",
     "output_type": "stream",
     "text": [
      "{1, 2, 3}\n",
      "{'name': 'vikey', 'age': 29}\n",
      "{'name': 'vikey'}\n",
      "{0: 0, 1: 1, 2: 4, 3: 9, 4: 16, 5: 25, 6: 36, 7: 49, 8: 64, 9: 81}\n",
      "email xxx@qq.com\n",
      "vikey@outlook.com\n",
      "{'email': 'xxx@qq.com', 'another_email': 'vikey@outlook.com'}\n"
     ]
    }
   ],
   "source": [
    "# 集合\n",
    "number = [1,2,3,2,2,1]\n",
    "print(set(number))\n",
    "\n",
    "# 字典\n",
    "user_info = {'name': 'vikey', 'age': 29}\n",
    "print(user_info)\n",
    "print(dict(name='vikey'))\n",
    "# 字典推导式\n",
    "foo = {x: x**2 for x in range(10)}\n",
    "print(foo)\n",
    "# 字典的内置函数\n",
    "# 访问指定键：map.get('key') 或 map['key']\n",
    "# 访问所有元素：map.items()\n",
    "# 访问所有键/值：map.keys(), map.values()\n",
    "# 遍历字典\n",
    "temp_map = {\"email\": \"xxx@qq.com\"}\n",
    "for key, value in temp_map.items():\n",
    "    print(key, value)\n",
    "# 字典默认值\n",
    "email = temp_map.setdefault(\"another_email\", \"vikey@outlook.com\")\n",
    "print(email)\n",
    "print(temp_map)\n",
    "\n",
    "# 列表-字典-字符串 互相转换\n",
    "# merge_map = dict(zip(list1, list2))"
   ]
  },
  {
   "cell_type": "code",
   "execution_count": 30,
   "id": "8aa4cbc8-f983-44d0-a3bf-f901b09b3a9e",
   "metadata": {},
   "outputs": [
    {
     "name": "stdout",
     "output_type": "stream",
     "text": [
      "['red', 'blue', 'green', ['a', 'b']]\n",
      "<class 'list'>\n",
      "['c', 'o', 'l', 'o', 'r', 's']\n",
      "red\n",
      "['a', 'b']\n",
      "b\n",
      "['blue', 'green', ['a', 'b']]\n",
      "[0, 1, 2, 3]\n",
      "[0, 1, 2, 3, 4]\n",
      "[0, 1, 2, 3, 4, 5, 6, 7]\n",
      "[0, 1, 2, 3, 4, 6, 7]\n",
      "[1, 2, 3, 4, 6, 7]\n",
      "[7, 6, 4, 3, 2, 1]\n",
      "[4, 3, 2, 1]\n",
      "[1, 2, 3, 4]\n",
      "4\n",
      "1\n",
      "[]\n"
     ]
    }
   ],
   "source": [
    "# 常见数据类型\n",
    "# 数字类型：int float complex\n",
    "# 文本类型：str\n",
    "# 序列类型：list tuple range\n",
    "# 映射类型：dict\n",
    "\n",
    "# 列表\n",
    "colors = ['red', 'blue', 'green', ['a', 'b']]\n",
    "print(colors)\n",
    "print(type(colors))\n",
    "print(list('colors'))\n",
    "print(colors[0])\n",
    "print(colors[-1])\n",
    "print(colors[3][1])\n",
    "del colors[0]\n",
    "print(colors)\n",
    "del colors\n",
    "\n",
    "# 列表常用操作\n",
    "num_list = [1,2,3]\n",
    "num_list.insert(0, 0) # 在 0 之前插入\n",
    "print(num_list)\n",
    "num_list.append(4)\n",
    "print(num_list)\n",
    "num_list.extend([5,6,7]) # 插入可迭代对象\n",
    "print(num_list)\n",
    "num_list.remove(5)\n",
    "print(num_list)\n",
    "num_list.pop(0)\n",
    "print(num_list)\n",
    "num_list.reverse()\n",
    "print(num_list)\n",
    "num_list.pop(0)\n",
    "num_list.pop(0)\n",
    "num_list.sort(reverse=True) # 原地排序，改变原有列表\n",
    "print(num_list)\n",
    "new_list = sorted(num_list) # 不改变原有列表\n",
    "print(new_list)\n",
    "print(len(num_list))\n",
    "print(num_list.count(1)) # 出现的次数\n",
    "num_list.clear()\n",
    "print(num_list)"
   ]
  },
  {
   "cell_type": "code",
   "execution_count": 13,
   "id": "14df3b92-9bd6-4b8a-80b8-0bc1f5cd99ae",
   "metadata": {},
   "outputs": [
    {
     "name": "stdout",
     "output_type": "stream",
     "text": [
      "<class 'dict'>\n",
      "字典: {'tom': 'a', 'jerry': 'b', 'mary': 'c'}\n",
      "[4, 16, 36, 64, 100]\n"
     ]
    }
   ],
   "source": [
    "# 字典\n",
    "var_dict = {'tom': 'a', 'jerry': 'b'}\n",
    "print(type(var_dict))\n",
    "var_dict['mary'] = 'c'\n",
    "# 输出字典的内容\n",
    "print('字典: %s' % var_dict)\n",
    "\n",
    "# 列表推导式\n",
    "# 从 1 到 10所有偶数的平方\n",
    "sum_list = [i*i for i in range(1, 11) if (i % 2) == 0]\n",
    "print(sum_list)"
   ]
  },
  {
   "cell_type": "code",
   "execution_count": 15,
   "id": "a92947be-36ce-405f-8c4b-b76f0311efad",
   "metadata": {},
   "outputs": [
    {
     "name": "stdout",
     "output_type": "stream",
     "text": [
      "男孩\n",
      "1\n",
      "2\n",
      "3\n",
      "4\n",
      "2000 年\n",
      "2001 年\n",
      "2002 年\n",
      "2003 年\n",
      "2004 年\n",
      "2005 年\n",
      "2006 年\n",
      "2007 年\n",
      "2008 年\n",
      "2009 年\n",
      "2010 年\n",
      "2011 年\n",
      "2012 年\n",
      "2013 年\n",
      "2014 年\n",
      "2015 年\n",
      "2016 年\n",
      "2017 年\n",
      "2018 年\n",
      "2019 年\n",
      "2020 年\n",
      "2021 年\n",
      "2022 年\n",
      "1\n",
      "2\n",
      "3\n"
     ]
    }
   ],
   "source": [
    "import time\n",
    "\n",
    "# 条件语句\n",
    "# gender = input(\"please input your gender: (boy/girl)\")\n",
    "gender = 'boy'\n",
    "if gender == 'boy':\n",
    "    print('男孩')\n",
    "elif gender == 'girl':\n",
    "    print('女孩')\n",
    "else:\n",
    "    print('什么玩意')\n",
    "\n",
    "# 循环语句\n",
    "num_list = [1, 2, 3, 4]\n",
    "for num in num_list:\n",
    "    print(num)\n",
    "for year in range(2000, 2023):\n",
    "    print('%s 年' % year)\n",
    "# while 循环\n",
    "temp = 0\n",
    "while True:\n",
    "    temp = temp + 1\n",
    "    time.sleep(1)\n",
    "    print(temp)\n",
    "    if temp == 3:\n",
    "        break"
   ]
  },
  {
   "cell_type": "code",
   "execution_count": null,
   "id": "b2ff93ff-7e8f-45b2-b851-c98e0dfd2770",
   "metadata": {},
   "outputs": [],
   "source": [
    "# 元组\n",
    "\n",
    "# 按照月份和日期计算星座\n",
    "# 定义个元组用于表示星座 u表示指定字符串的编码为unicode\n",
    "zodica_name = (u'摩羯',u'水瓶',u'双鱼',u'白羊',u'金牛',u'双子',u'巨蟹',u'狮子',u'处女',u'天枰',u'天蝎',u'射手')\n",
    "# 定义一个元组 由于表示对用星座的起始日期\n",
    "zodiac_days = ((1,20),(2,19),(3,21),(4,21),(5,21),(6,22),(7,23),(8,23),(9,23),(10,23),(11,23),(12,23))\n",
    "# 定义要计算的月份 和 日期\n",
    "(month,day) = (2,15)\n",
    "zodiac_day = filter(lambda x: x <= (month, day), zodiac_days)\n",
    "zodiac_len = len(list(zodiac_day)) % 12\n",
    "print(zodica_name[zodiac_len])\n",
    "\n",
    "# 列表\n",
    "temp_list = ['a', 'b']\n",
    "temp_list.append('c')\n",
    "print(temp_list)\n",
    "temp_list.remove('b')\n",
    "print(temp_list)"
   ]
  },
  {
   "cell_type": "code",
   "execution_count": 7,
   "id": "55f2a6df-d491-41db-8eb0-82000c44d5a0",
   "metadata": {},
   "outputs": [
    {
     "name": "stdout",
     "output_type": "stream",
     "text": [
      "马\n",
      "虎\n",
      "False\n",
      "猴鸡狗猪鼠牛虎兔龙蛇马羊猴鸡狗猪鼠牛虎兔龙蛇马羊\n",
      "猴鸡狗猪鼠牛虎兔龙蛇马羊猴鸡狗猪鼠牛虎兔龙蛇马羊猴鸡狗猪鼠牛虎兔龙蛇马羊\n",
      "猴鸡狗\n"
     ]
    }
   ],
   "source": [
    "# 字符串\n",
    "\n",
    "# 记录生肖，根据年份来判新生肖\n",
    "chinese_zodiac = \"猴鸡狗猪鼠牛虎兔龙蛇马羊\"\n",
    "print(chinese_zodiac[10])\n",
    "year = 2022\n",
    "print(chinese_zodiac[year % 12])\n",
    "print(\"猫\" in chinese_zodiac)\n",
    "print(chinese_zodiac + chinese_zodiac)\n",
    "print(chinese_zodiac * 3)\n",
    "print(chinese_zodiac[:3])"
   ]
  },
  {
   "cell_type": "code",
   "execution_count": 19,
   "id": "5a829147-8437-40e5-8009-b5b025ec043b",
   "metadata": {},
   "outputs": [
    {
     "name": "stdout",
     "output_type": "stream",
     "text": [
      "16.86\n",
      "16.86\n",
      "15159303469753898050286330474618762710103721054712353631130748168040080333107547808898087276321691418713782972161358639686756\n"
     ]
    }
   ],
   "source": [
    "print(eval(\"12.3+4.56\"))\n",
    "num = 12.3\n",
    "print(eval(\"num+4.56\"))\n",
    "big_num1 = 123123123213123123123123123123123122323324234234234234234324234\n",
    "big_num2 = 2\n",
    "print(pow(big_num1, big_num2))"
   ]
  },
  {
   "cell_type": "code",
   "execution_count": null,
   "id": "34cae522-14b8-4d4b-8662-453f8597faae",
   "metadata": {},
   "outputs": [],
   "source": [
    "'''\n",
    "这是多行注释\n",
    "\n",
    "注释的目的：\n",
    "主要阐述代码的用途和原理，即：做什么、怎么做\n",
    "注释力求简单、无歧义\n",
    "'''\n",
    "\n",
    "# 这是一行注释\n",
    "print(\"我后面有注释哦\") # 我是注释\n",
    "\n",
    "# python 之禅\n",
    "import this"
   ]
  },
  {
   "cell_type": "code",
   "execution_count": null,
   "id": "8d4ce4fa-c434-49fe-914d-81806eb50415",
   "metadata": {},
   "outputs": [],
   "source": [
    "import time\n",
    "print(time.time())\n",
    "print(type(6.6))\n",
    "print(type(True))\n",
    "print(\"ABC\">\"ABD\")\n",
    "# print(\"ABC\">123)\n",
    "print(123.0>123)\n",
    "print(\"123.0\">\"123\")"
   ]
  },
  {
   "cell_type": "code",
   "execution_count": null,
   "id": "c1065497-51d0-42b1-9d9b-30617e72dedd",
   "metadata": {},
   "outputs": [],
   "source": [
    "def sum(num1, num2):\n",
    "    return num1 + num2\n",
    "num1 = int(input(\"please input number1:\"))\n",
    "num2 = int(input(\"please input number2:\"))\n",
    "print(sum(num1, num2))"
   ]
  },
  {
   "cell_type": "code",
   "execution_count": null,
   "id": "ced98043-8129-40c9-a3ff-4ff308e6e425",
   "metadata": {},
   "outputs": [],
   "source": [
    "print(\"xyzxyz\".count(\"x\"))\n",
    "print(\"xyzxyz\".isalnum()) # 如果字符串中的所有字符都是字母或数字，且至少有一个字符，那么返回True,否则返回False\n",
    "print(\"xyzxyz\".isalpha()) # 如果字符串中的所有字符都是字母，且至少有一个字符，那么返回True,否则返回False\n",
    "print(\"、\".join(\"abcdefg\"))\n",
    "print(\"a、b、c\".split(\"、\"))\n",
    "print(\"abc\".startswith(\"a\"))\n",
    "\n",
    "article = \"\"\"\n",
    "Beautiful is better than ugly.\n",
    "Explicit is better than implicit.\n",
    "Simple is better than complex.\n",
    "\"\"\"\n",
    "betterCount = article.count(\"better\")\n",
    "print(betterCount)\n",
    "\n",
    "name = input(\"Please input your name\")\n",
    "print(\"Hello \" + name.capitalize())"
   ]
  },
  {
   "cell_type": "code",
   "execution_count": null,
   "id": "73d159cb-5c21-4430-bcf5-51f6fb41b825",
   "metadata": {},
   "outputs": [],
   "source": [
    "print(\"x\" in \"123x\")\n",
    "print(\"abc\" + \"defg\")\n",
    "print(\"x\" * 3)\n",
    "x = \"abcdefg\"\n",
    "print(x[0:7:2]) # 从0开始，到索引位7，步径为2"
   ]
  },
  {
   "cell_type": "code",
   "execution_count": 2,
   "id": "4d2bf248-d9b0-45fb-8633-aae5f3196951",
   "metadata": {},
   "outputs": [
    {
     "name": "stdout",
     "output_type": "stream",
     "text": [
      "x的值是 3.14\n"
     ]
    }
   ],
   "source": [
    "x = 3.14\n",
    "print(f\"x的值是 {x}\")"
   ]
  },
  {
   "cell_type": "code",
   "execution_count": 1,
   "id": "7c50c79d-4b66-4c47-b923-24bfc3df241f",
   "metadata": {},
   "outputs": [
    {
     "name": "stdout",
     "output_type": "stream",
     "text": [
      "reporn\n"
     ]
    }
   ],
   "source": [
    "print('reporn')"
   ]
  }
 ],
 "metadata": {
  "kernelspec": {
   "display_name": "Python 3 (ipykernel)",
   "language": "python",
   "name": "python3"
  },
  "language_info": {
   "codemirror_mode": {
    "name": "ipython",
    "version": 3
   },
   "file_extension": ".py",
   "mimetype": "text/x-python",
   "name": "python",
   "nbconvert_exporter": "python",
   "pygments_lexer": "ipython3",
   "version": "3.10.2"
  }
 },
 "nbformat": 4,
 "nbformat_minor": 5
}
