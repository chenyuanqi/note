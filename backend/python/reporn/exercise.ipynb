{
 "cells": [
  {
   "cell_type": "code",
   "execution_count": null,
   "id": "b401ce4e-a968-4766-bdf5-e78d19879144",
   "metadata": {},
   "outputs": [],
   "source": [
    "# numpy\n"
   ]
  },
  {
   "cell_type": "code",
   "execution_count": 9,
   "id": "76e7e66c-117e-48ef-afcd-244a535b2334",
   "metadata": {},
   "outputs": [
    {
     "name": "stdout",
     "output_type": "stream",
     "text": [
      "/Users/yuanqi/www/mine/note/backend/python/reporn\n",
      "True\n",
      "True\n",
      "/tmp/a/b/c\n",
      "/Users/yuanqi/www/mine/note/backend/python/reporn\n",
      "True\n"
     ]
    }
   ],
   "source": [
    "# 命令行文件、文件夹操作\n",
    "import os\n",
    "from pathlib import Path\n",
    "\n",
    "print(os.path.abspath(''))\n",
    "print(os.path.exists(\"/Users\"))\n",
    "print(os.path.isdir(\"/Users\"))\n",
    "print(os.path.join(\"/tmp/a/\", \"b/c\"))\n",
    "\n",
    "p = Path(\".\")\n",
    "print(p.resolve())\n",
    "print(p.is_dir())\n",
    "# 创建目录，不存在也创建\n",
    "# Path.mkdir(Path(\"/tmp/a/b/c\", parents=True))"
   ]
  },
  {
   "cell_type": "code",
   "execution_count": null,
   "id": "02c77618-c9c9-479b-8531-f9f7ff404e62",
   "metadata": {},
   "outputs": [],
   "source": [
    "# 数学相关库\n",
    "import math\n",
    "import random\n",
    "\n",
    "print(math.sin(60))\n",
    "\n",
    "print(random.randint(1, 10))\n",
    "print(random.choice(['a', 'b', 'c']))"
   ]
  },
  {
   "cell_type": "code",
   "execution_count": 2,
   "id": "a08caf75-7f97-4679-b6ac-73997f9314b0",
   "metadata": {},
   "outputs": [
    {
     "name": "stdout",
     "output_type": "stream",
     "text": [
      "1671545486.066412\n",
      "time.struct_time(tm_year=2022, tm_mon=12, tm_mday=20, tm_hour=22, tm_min=11, tm_sec=26, tm_wday=1, tm_yday=354, tm_isdst=0)\n",
      "2022-12-20 22:11:26\n",
      "2022-12-20 22:11:26.067202\n",
      "2022-12-20 22:21:26.067411\n",
      "2022-10-20 00:00:00\n"
     ]
    }
   ],
   "source": [
    "# 常用库：日期与时间\n",
    "import time\n",
    "import datetime\n",
    "\n",
    "print(time.time())\n",
    "print(time.localtime())\n",
    "print(time.strftime('%Y-%m-%d %H:%M:%S'))\n",
    "\n",
    "print(datetime.datetime.now())\n",
    "# 10分钟后\n",
    "new_time = datetime.timedelta(minutes=10)\n",
    "print(datetime.datetime.now()+new_time)\n",
    "\n",
    "one_day = datetime.datetime(2022, 10, 10)\n",
    "# 指定日期10天后\n",
    "new_date = datetime.timedelta(days=10)\n",
    "print(one_day + new_date)"
   ]
  },
  {
   "cell_type": "code",
   "execution_count": 3,
   "id": "c4a66210-ef74-4a3a-b801-8c5aac408ec6",
   "metadata": {},
   "outputs": [
    {
     "name": "stdout",
     "output_type": "stream",
     "text": [
      "<re.Match object; span=(0, 3), match='abc'>\n",
      "<re.Match object; span=(0, 6), match='abcabc'>\n",
      "2022\n",
      "2022-12-19\n",
      "('2022', '12', '19')\n",
      "('2022', '03', '23')\n",
      "123456789 \n"
     ]
    }
   ],
   "source": [
    "# 标准库（Python 自带的）\n",
    "# https://docs.python.org/zh-cn/3/library/index.html\n",
    "\n",
    "# 常用库：re 正则表达式\n",
    "import re\n",
    "\n",
    "# match 匹配\n",
    "p1 = re.compile(\"abc\")\n",
    "print(p1.match(\"abcabc\"))\n",
    "\n",
    "p2 = re.compile(\"a.*\")\n",
    "print(p2.match(\"abcabc\"))\n",
    "\n",
    "p3 = re.compile(r\"(\\d+)-(\\d+)-(\\d+)\")\n",
    "print(p3.match(\"2022-12-19\").group(1))\n",
    "print(p3.match(\"2022-12-19\").group())\n",
    "print(p3.match(\"2022-12-19\").groups())\n",
    "\n",
    "# search 搜索\n",
    "print(p3.search(\"aaa2022-03-23kkkk\").groups())\n",
    "# 对比 match，完全匹配后分组，匹配出错\n",
    "# print(p3.match(\"aaa2022-03-23kkkk\").groups())\n",
    "\n",
    "# sub 替换\n",
    "phone = \"123456789 # phone\"\n",
    "p4 = re.sub(r\"#.*$\", \"\", phone)\n",
    "print(p4)"
   ]
  },
  {
   "cell_type": "code",
   "execution_count": 11,
   "id": "1ebdc912-89f5-4d2d-84d3-15e34baffea0",
   "metadata": {},
   "outputs": [
    {
     "name": "stdout",
     "output_type": "stream",
     "text": [
      "生产者 p1 生产了数据 89\n",
      "生产者 p2 生产了数据 29\n",
      "消费者 c1 消耗了数据 89\n"
     ]
    },
    {
     "name": "stderr",
     "output_type": "stream",
     "text": [
      "/var/folders/c7/tkc6k80j74g0xrsww28hdklw0000gn/T/ipykernel_58946/3562516584.py:20: DeprecationWarning: getName() is deprecated, get the name attribute instead\n",
      "  name = current_thread().getName()\n",
      "/var/folders/c7/tkc6k80j74g0xrsww28hdklw0000gn/T/ipykernel_58946/3562516584.py:34: DeprecationWarning: getName() is deprecated, get the name attribute instead\n",
      "  name = current_thread().getName()\n"
     ]
    }
   ],
   "source": [
    "# 经典的生产者和消费者问题\n",
    "# import queue\n",
    "\n",
    "# q = queue.Queue()\n",
    "# q.put(1)\n",
    "# q.put(2)\n",
    "# q.put(3)\n",
    "# print(q.get())\n",
    "# print(q.get())\n",
    "# print(q.get())\n",
    "from threading import Thread, current_thread\n",
    "import random\n",
    "import time\n",
    "from queue import Queue\n",
    "\n",
    "queue = Queue(5)\n",
    "\n",
    "class ProducterThread(Thread):\n",
    "    def run(self):\n",
    "        name = current_thread().getName()\n",
    "        nums = range(100)\n",
    "        global queue\n",
    "        while True:\n",
    "            num = random.choice(nums)\n",
    "            queue.put(num)\n",
    "            print('生产者 %s 生产了数据 %s' % (name, num))\n",
    "            t = random.randint(1, 3)\n",
    "            time.sleep(t)\n",
    "            print('生产者 %s 休眠了 %s 秒' % (name, t))\n",
    "\n",
    "\n",
    "class ConsumerThread(Thread):\n",
    "    def run(self):\n",
    "        name = current_thread().getName()\n",
    "        global queue\n",
    "        while True:\n",
    "            num = queue.get()\n",
    "            queue.task_done()\n",
    "            print('消费者 %s 消耗了数据 %s' % (name, num))\n",
    "            t = random.randint(1, 5)\n",
    "            time.sleep(t)\n",
    "            print('消费者 %s 休眠了 %s 秒' % (name, t))\n",
    "\n",
    "\n",
    "p1 = ProducterThread(name='p1')\n",
    "# p1.start()\n",
    "p2 = ProducterThread(name='p2')\n",
    "# p2.start()\n",
    "c1 = ConsumerThread(name='c1')\n",
    "# c1.start()"
   ]
  },
  {
   "cell_type": "code",
   "execution_count": 4,
   "id": "f5bf5dcd-20bc-402b-9c5b-0854c856f327",
   "metadata": {},
   "outputs": [
    {
     "name": "stdout",
     "output_type": "stream",
     "text": [
      "Thread-5 start\n",
      "run\n",
      "Thread-5 stop\n",
      "MainThread end\n"
     ]
    },
    {
     "name": "stderr",
     "output_type": "stream",
     "text": [
      "/var/folders/c7/tkc6k80j74g0xrsww28hdklw0000gn/T/ipykernel_65349/1531178818.py:22: DeprecationWarning: getName() is deprecated, get the name attribute instead\n",
      "  print(current_thread().getName(), \"start\")\n",
      "/var/folders/c7/tkc6k80j74g0xrsww28hdklw0000gn/T/ipykernel_65349/1531178818.py:24: DeprecationWarning: getName() is deprecated, get the name attribute instead\n",
      "  print(current_thread().getName(), \"stop\")\n",
      "/var/folders/c7/tkc6k80j74g0xrsww28hdklw0000gn/T/ipykernel_65349/1531178818.py:30: DeprecationWarning: getName() is deprecated, get the name attribute instead\n",
      "  print(current_thread().getName(), \"end\")\n"
     ]
    }
   ],
   "source": [
    "# 并发编程\n",
    "import threading\n",
    "from threading import current_thread\n",
    "import time\n",
    "\n",
    "# def my_thread(arg1, arg2):\n",
    "#     print(current_thread().getName(), \"start\")\n",
    "#     print(\"%s %s\" % (arg1, arg2))\n",
    "#     time.sleep(1)\n",
    "#     print(current_thread().getName(), \"stop\")\n",
    "\n",
    "# for i in range(1, 6, 1):\n",
    "#     # t = my_thread(i, i+1)\n",
    "#     t = threading.Thread(target=my_thread, args=(i, i+1))\n",
    "#     t.start()\n",
    "\n",
    "# print(current_thread().getName(), \"end\")\n",
    "\n",
    "# 加入线程等待结束再执行后续代码（end）\n",
    "class Mythread(threading.Thread):\n",
    "    def run(self):\n",
    "        print(current_thread().getName(), \"start\")\n",
    "        print(\"run\")\n",
    "        print(current_thread().getName(), \"stop\")\n",
    "\n",
    "t = Mythread()\n",
    "t.start()\n",
    "t.join()\n",
    "\n",
    "print(current_thread().getName(), \"end\")"
   ]
  },
  {
   "cell_type": "code",
   "execution_count": 13,
   "id": "8bc299fd-6eba-41b2-a29d-d7e1812fd3c5",
   "metadata": {},
   "outputs": [
    {
     "name": "stdout",
     "output_type": "stream",
     "text": [
      "run\n",
      "test\n",
      "err: <traceback object at 0x108d395c0>\n"
     ]
    },
    {
     "ename": "NameError",
     "evalue": "test name err",
     "output_type": "error",
     "traceback": [
      "\u001b[0;31m---------------------------------------------------------------------------\u001b[0m",
      "\u001b[0;31mNameError\u001b[0m                                 Traceback (most recent call last)",
      "Cell \u001b[0;32mIn [13], line 12\u001b[0m\n\u001b[1;32m     10\u001b[0m \u001b[38;5;28;01mwith\u001b[39;00m CustomWith():\n\u001b[1;32m     11\u001b[0m     \u001b[38;5;28mprint\u001b[39m(\u001b[38;5;124m\"\u001b[39m\u001b[38;5;124mtest\u001b[39m\u001b[38;5;124m\"\u001b[39m)\n\u001b[0;32m---> 12\u001b[0m     \u001b[38;5;28;01mraise\u001b[39;00m \u001b[38;5;167;01mNameError\u001b[39;00m(\u001b[38;5;124m\"\u001b[39m\u001b[38;5;124mtest name err\u001b[39m\u001b[38;5;124m\"\u001b[39m)\n",
      "\u001b[0;31mNameError\u001b[0m: test name err"
     ]
    },
    {
     "name": "stdout",
     "output_type": "stream",
     "text": [
      "消费者 c1 休眠了 4 秒\n",
      "消费者 c1 消耗了数据 29\n",
      "生产者 p1 休眠了 2 秒\n",
      "生产者 p1 生产了数据 78\n",
      "生产者 p2 休眠了 3 秒\n",
      "生产者 p2 生产了数据 55\n"
     ]
    }
   ],
   "source": [
    "# 自定义with语句\n",
    "class CustomWith():\n",
    "    def __enter__(self):\n",
    "        print(\"run\")\n",
    "    def __exit__(self, exc_type, exc_val, exc_tb):\n",
    "        if exc_tb is None:\n",
    "            print(\"end\")\n",
    "        else:\n",
    "            print(\"err: %s\" % exc_tb)\n",
    "with CustomWith():\n",
    "    print(\"test\")\n",
    "    raise NameError(\"test name err\")"
   ]
  },
  {
   "cell_type": "code",
   "execution_count": 14,
   "id": "08fe9101-85a9-4d02-a22a-06103ba3696a",
   "metadata": {},
   "outputs": [
    {
     "name": "stdout",
     "output_type": "stream",
     "text": [
      "lining: 100\n",
      "lining: 99\n",
      "I am a basketball player, call me jams: 100\n",
      "消费者 c1 休眠了 4 秒\n",
      "消费者 c1 消耗了数据 54\n",
      "生产者 p1 休眠了 3 秒\n",
      "生产者 p1 生产了数据 36\n",
      "生产者 p2 休眠了 3 秒\n",
      "生产者 p2 生产了数据 32\n",
      "消费者 c1 休眠了 2 秒\n",
      "消费者 c1 消耗了数据 87\n",
      "生产者 p2 休眠了 2 秒生产者 p1 休眠了 3 秒\n",
      "生产者 p1 生产了数据 84\n",
      "\n",
      "生产者 p1 休眠了 2 秒\n",
      "消费者 c1 休眠了 4 秒\n",
      "消费者 c1 消耗了数据 78\n",
      "生产者 p2 生产了数据 4\n"
     ]
    }
   ],
   "source": [
    "# 类和实例\n",
    "class Player():\n",
    "    def __init__(self, name, score):\n",
    "        self.name = name\n",
    "        self.score = score\n",
    "    def show_info(self):\n",
    "        print(\"%s: %s\" % (self.name, self.score))\n",
    "    def change_score(self, score):\n",
    "        self.score = score\n",
    "lining = Player(\"lining\", 100)\n",
    "lining.show_info()\n",
    "lining.change_score(99)\n",
    "lining.show_info()\n",
    "# 类的继承\n",
    "class BasketballPlayer(Player):\n",
    "    def show_info(self):\n",
    "        print(\"I am a basketball player, call me %s: %s\" % (self.name, self.score))\n",
    "jams = BasketballPlayer(\"jams\", 100)\n",
    "jams.show_info()"
   ]
  },
  {
   "cell_type": "code",
   "execution_count": null,
   "id": "da729ce5-e544-4f94-98c6-25ab71afd224",
   "metadata": {},
   "outputs": [],
   "source": [
    "# PEP8 编码规范\n",
    "# https://www.python.org/dev/peps/pep-0008/\n",
    "# 工具 autopep8：pip3 install autopep8"
   ]
  },
  {
   "cell_type": "code",
   "execution_count": 15,
   "id": "12c14a12-7af5-4489-acb4-04d8f595ab4d",
   "metadata": {},
   "outputs": [
    {
     "name": "stdout",
     "output_type": "stream",
     "text": [
      "None\n"
     ]
    }
   ],
   "source": [
    "# 模块\n",
    "# 导入模块\n",
    "import os\n",
    "from time import sleep\n",
    "sleep(1)\n",
    "print(os.getenv(\"ENV_MODE\"))\n",
    "\n",
    "# 自定义模块 mymod.py\n",
    "def print_me():\n",
    "    print(\"me\")\n",
    "# import mymod\n",
    "# mymod.print_me()"
   ]
  },
  {
   "cell_type": "code",
   "execution_count": 10,
   "id": "0ce01148-c8a8-40d9-be12-3b049c936795",
   "metadata": {},
   "outputs": [
    {
     "name": "stdout",
     "output_type": "stream",
     "text": [
      "1670940407.580996\n",
      "3.003434896469116\n",
      "运行时间：3.004132032394409 秒\n",
      "start add_module add\n",
      "9\n",
      "end\n",
      "None\n",
      "start sub_module sub\n",
      "5\n",
      "end\n",
      "None\n"
     ]
    }
   ],
   "source": [
    "import time\n",
    "print(time.time())\n",
    "def i_can_sleep():\n",
    "    time.sleep(3)\n",
    "start_time = time.time()\n",
    "i_can_sleep()\n",
    "end_time = time.time()\n",
    "print(end_time-start_time)\n",
    "\n",
    "# 装饰器\n",
    "def timmer(func):\n",
    "    def wrapper():\n",
    "        start_time = time.time()\n",
    "        func()\n",
    "        end_time = time.time()\n",
    "        print(\"运行时间：%s 秒\" % (end_time-start_time))\n",
    "    return wrapper\n",
    "@timmer\n",
    "def i_can_sleep_by_second(second = 3):\n",
    "    time.sleep(second)\n",
    "i_can_sleep_by_second()\n",
    "# 带参数的装饰器\n",
    "def new_tips(argv):\n",
    "    def tips(func):\n",
    "        def nei(a, b):\n",
    "            print(\"start %s %s\" % (argv, func.__name__))\n",
    "            func(a, b)\n",
    "            print(\"end\")\n",
    "        return nei\n",
    "    return tips\n",
    "@new_tips(\"add_module\")\n",
    "def add(a, b):\n",
    "    print(a+b)\n",
    "@new_tips(\"sub_module\")\n",
    "def sub(a, b):\n",
    "    print(a-b)\n",
    "print(add(4, 5))\n",
    "print(sub(8,3))"
   ]
  },
  {
   "cell_type": "code",
   "execution_count": 2,
   "id": "c2d8205c-e812-4948-b37d-72a79180a990",
   "metadata": {},
   "outputs": [
    {
     "name": "stdout",
     "output_type": "stream",
     "text": [
      "2\n",
      "1\n",
      "2\n",
      "3\n",
      "4\n",
      "5\n",
      "5\n"
     ]
    }
   ],
   "source": [
    "# 闭包\n",
    "def sum(num1):\n",
    "    def add(num2):\n",
    "        return num1 + num2\n",
    "    return add\n",
    "print(sum(1)(1))\n",
    "\n",
    "# 闭包的威力\n",
    "def counter():\n",
    "    cnt = [0]\n",
    "    def addOne():\n",
    "        cnt[0] += 1\n",
    "        return cnt[0]\n",
    "    return addOne\n",
    "count = counter()\n",
    "print(count())\n",
    "print(count())\n",
    "print(count())\n",
    "print(count())\n",
    "print(count())\n",
    "\n",
    "def cal(a, b):\n",
    "    return lambda x: a * x + b\n",
    "t = cal(1, 2)\n",
    "print(t(3))"
   ]
  },
  {
   "cell_type": "code",
   "execution_count": 17,
   "id": "d1559b77-37d4-4d51-9154-afd776f27b69",
   "metadata": {},
   "outputs": [
    {
     "name": "stdout",
     "output_type": "stream",
     "text": [
      "2\n",
      "[1, 3, 5, 7, 9]\n",
      "[1, 4, 9, 16, 25, 36, 49, 64, 81]\n",
      "45\n",
      "(1, 4)\n",
      "(2, 5)\n",
      "(3, 6)\n"
     ]
    }
   ],
   "source": [
    "# lambda 表达式\n",
    "sumFunc = lambda num1, num2: num1 + num2\n",
    "print(sumFunc(1, 1))\n",
    "\n",
    "# 内置函数 filter、map、reduce、zip 等\n",
    "numList = range(1, 10)\n",
    "print(list(filter(lambda x: x % 2, numList)))\n",
    "print(list(map(lambda x: x**2, numList)))\n",
    "from functools import reduce\n",
    "print(reduce(lambda x, y: x + y, numList))\n",
    "for i in zip((1,2,3), (4, 5, 6)):\n",
    "    print(i)"
   ]
  },
  {
   "cell_type": "code",
   "execution_count": 11,
   "id": "0c1b68b7-7c83-49b6-8a7d-e4fbdfaa8fde",
   "metadata": {},
   "outputs": [
    {
     "name": "stdout",
     "output_type": "stream",
     "text": [
      "1\n",
      "3\n",
      "5\n",
      "1\n",
      "1.5\n",
      "2.0\n",
      "2.5\n",
      "3.0\n",
      "3.5\n",
      "4.0\n",
      "4.5\n",
      "5.0\n",
      "5.5\n",
      "6.0\n",
      "6.5\n",
      "7.0\n",
      "7.5\n",
      "8.0\n",
      "8.5\n",
      "9.0\n",
      "9.5\n"
     ]
    }
   ],
   "source": [
    "# 迭代器\n",
    "list1 = range(1, 10, 2)\n",
    "it1 = iter(list1)\n",
    "print(next(it1))\n",
    "print(next(it1))\n",
    "print(next(it1))\n",
    "\n",
    "# 生成器（range 支持浮点）\n",
    "def floatRange(start, stop, step):\n",
    "    x = start\n",
    "    while x < stop:\n",
    "        yield x\n",
    "        x += step\n",
    "for i in floatRange(1, 10, 0.5):\n",
    "    print(i)"
   ]
  },
  {
   "cell_type": "code",
   "execution_count": 8,
   "id": "402602ad-0420-4649-8a25-7266e307faf1",
   "metadata": {},
   "outputs": [
    {
     "name": "stdout",
     "output_type": "stream",
     "text": [
      "a= 1\n",
      "b= 2\n",
      "c= 3\n",
      "5\n",
      "123\n"
     ]
    },
    {
     "ename": "NameError",
     "evalue": "name 'var2' is not defined",
     "output_type": "error",
     "traceback": [
      "\u001b[0;31m---------------------------------------------------------------------------\u001b[0m",
      "\u001b[0;31mNameError\u001b[0m                                 Traceback (most recent call last)",
      "Cell \u001b[0;32mIn [8], line 18\u001b[0m\n\u001b[1;32m     16\u001b[0m     var2 \u001b[38;5;241m=\u001b[39m \u001b[38;5;241m456\u001b[39m\n\u001b[1;32m     17\u001b[0m showVar()\n\u001b[0;32m---> 18\u001b[0m \u001b[38;5;28mprint\u001b[39m(\u001b[43mvar2\u001b[49m)\n",
      "\u001b[0;31mNameError\u001b[0m: name 'var2' is not defined"
     ]
    }
   ],
   "source": [
    "# 函数\n",
    "def func(a, b, c):\n",
    "    print('a= %s' % a)\n",
    "    print('b= %s' % b)\n",
    "    print('c= %s' % c)\n",
    "func(1, c=3, b=2)\n",
    "\n",
    "def howLong(first, *others):\n",
    "    return 1 + len(others)\n",
    "print(howLong(1,2,3,4,5))\n",
    "\n",
    "# 函数作用域\n",
    "var1 = 123\n",
    "def showVar():\n",
    "    print(var1)\n",
    "    var2 = 456 # global var2 = 456\n",
    "showVar()\n",
    "# print(var2)"
   ]
  },
  {
   "cell_type": "code",
   "execution_count": 5,
   "id": "b09b4378-a316-4cae-b9b0-09e831801ba2",
   "metadata": {},
   "outputs": [
    {
     "name": "stdout",
     "output_type": "stream",
     "text": [
      "Requirement already satisfied: tinydb in /Users/yuanqi/.pyenv/versions/3.10.2/lib/python3.10/site-packages (4.7.0)\n"
     ]
    },
    {
     "data": {
      "text/plain": [
       "[{'name': 1, 'tel': 123}, {'name': 2, 'tel': 123456}]"
      ]
     },
     "execution_count": 5,
     "metadata": {},
     "output_type": "execute_result"
    }
   ],
   "source": [
    "# 手机通讯录 csv => tinydb\n",
    "! pip3 install tinydb\n",
    "from tinydb import TinyDB\n",
    "db = TinyDB(\"./db.json\")\n",
    "friend_1 = {'name': 1, 'tel': 123}\n",
    "friend_2 = {'name': 2, 'tel': 123456}\n",
    "db.insert_multiple([friend_1, friend_2])\n",
    "db.all()"
   ]
  },
  {
   "cell_type": "code",
   "execution_count": 3,
   "id": "44e260b3-45a7-434f-a999-f8d68f8dcf8e",
   "metadata": {},
   "outputs": [
    {
     "name": "stdout",
     "output_type": "stream",
     "text": [
      "{1, 2, 3}\n",
      "{'name': 'vikey', 'age': 29}\n",
      "{'name': 'vikey'}\n",
      "{0: 0, 1: 1, 2: 4, 3: 9, 4: 16, 5: 25, 6: 36, 7: 49, 8: 64, 9: 81}\n",
      "email xxx@qq.com\n",
      "vikey@outlook.com\n",
      "{'email': 'xxx@qq.com', 'another_email': 'vikey@outlook.com'}\n"
     ]
    }
   ],
   "source": [
    "# 集合\n",
    "number = [1,2,3,2,2,1]\n",
    "print(set(number))\n",
    "\n",
    "# 字典\n",
    "user_info = {'name': 'vikey', 'age': 29}\n",
    "print(user_info)\n",
    "print(dict(name='vikey'))\n",
    "# 字典推导式\n",
    "foo = {x: x**2 for x in range(10)}\n",
    "print(foo)\n",
    "# 字典的内置函数\n",
    "# 访问指定键：map.get('key') 或 map['key']\n",
    "# 访问所有元素：map.items()\n",
    "# 访问所有键/值：map.keys(), map.values()\n",
    "# 遍历字典\n",
    "temp_map = {\"email\": \"xxx@qq.com\"}\n",
    "for key, value in temp_map.items():\n",
    "    print(key, value)\n",
    "# 字典默认值\n",
    "email = temp_map.setdefault(\"another_email\", \"vikey@outlook.com\")\n",
    "print(email)\n",
    "print(temp_map)\n",
    "\n",
    "# 列表-字典-字符串 互相转换\n",
    "# merge_map = dict(zip(list1, list2))"
   ]
  },
  {
   "cell_type": "code",
   "execution_count": 30,
   "id": "8aa4cbc8-f983-44d0-a3bf-f901b09b3a9e",
   "metadata": {},
   "outputs": [
    {
     "name": "stdout",
     "output_type": "stream",
     "text": [
      "['red', 'blue', 'green', ['a', 'b']]\n",
      "<class 'list'>\n",
      "['c', 'o', 'l', 'o', 'r', 's']\n",
      "red\n",
      "['a', 'b']\n",
      "b\n",
      "['blue', 'green', ['a', 'b']]\n",
      "[0, 1, 2, 3]\n",
      "[0, 1, 2, 3, 4]\n",
      "[0, 1, 2, 3, 4, 5, 6, 7]\n",
      "[0, 1, 2, 3, 4, 6, 7]\n",
      "[1, 2, 3, 4, 6, 7]\n",
      "[7, 6, 4, 3, 2, 1]\n",
      "[4, 3, 2, 1]\n",
      "[1, 2, 3, 4]\n",
      "4\n",
      "1\n",
      "[]\n"
     ]
    }
   ],
   "source": [
    "# 常见数据类型\n",
    "# 数字类型：int float complex\n",
    "# 文本类型：str\n",
    "# 序列类型：list tuple range\n",
    "# 映射类型：dict\n",
    "\n",
    "# 列表\n",
    "colors = ['red', 'blue', 'green', ['a', 'b']]\n",
    "print(colors)\n",
    "print(type(colors))\n",
    "print(list('colors'))\n",
    "print(colors[0])\n",
    "print(colors[-1])\n",
    "print(colors[3][1])\n",
    "del colors[0]\n",
    "print(colors)\n",
    "del colors\n",
    "\n",
    "# 列表常用操作\n",
    "num_list = [1,2,3]\n",
    "num_list.insert(0, 0) # 在 0 之前插入\n",
    "print(num_list)\n",
    "num_list.append(4)\n",
    "print(num_list)\n",
    "num_list.extend([5,6,7]) # 插入可迭代对象\n",
    "print(num_list)\n",
    "num_list.remove(5)\n",
    "print(num_list)\n",
    "num_list.pop(0)\n",
    "print(num_list)\n",
    "num_list.reverse()\n",
    "print(num_list)\n",
    "num_list.pop(0)\n",
    "num_list.pop(0)\n",
    "num_list.sort(reverse=True) # 原地排序，改变原有列表\n",
    "print(num_list)\n",
    "new_list = sorted(num_list) # 不改变原有列表\n",
    "print(new_list)\n",
    "print(len(num_list))\n",
    "print(num_list.count(1)) # 出现的次数\n",
    "num_list.clear()\n",
    "print(num_list)"
   ]
  },
  {
   "cell_type": "code",
   "execution_count": 13,
   "id": "14df3b92-9bd6-4b8a-80b8-0bc1f5cd99ae",
   "metadata": {},
   "outputs": [
    {
     "name": "stdout",
     "output_type": "stream",
     "text": [
      "<class 'dict'>\n",
      "字典: {'tom': 'a', 'jerry': 'b', 'mary': 'c'}\n",
      "[4, 16, 36, 64, 100]\n"
     ]
    }
   ],
   "source": [
    "# 字典\n",
    "var_dict = {'tom': 'a', 'jerry': 'b'}\n",
    "print(type(var_dict))\n",
    "var_dict['mary'] = 'c'\n",
    "# 输出字典的内容\n",
    "print('字典: %s' % var_dict)\n",
    "\n",
    "# 列表推导式\n",
    "# 从 1 到 10所有偶数的平方\n",
    "sum_list = [i*i for i in range(1, 11) if (i % 2) == 0]\n",
    "print(sum_list)"
   ]
  },
  {
   "cell_type": "code",
   "execution_count": 15,
   "id": "a92947be-36ce-405f-8c4b-b76f0311efad",
   "metadata": {},
   "outputs": [
    {
     "name": "stdout",
     "output_type": "stream",
     "text": [
      "男孩\n",
      "1\n",
      "2\n",
      "3\n",
      "4\n",
      "2000 年\n",
      "2001 年\n",
      "2002 年\n",
      "2003 年\n",
      "2004 年\n",
      "2005 年\n",
      "2006 年\n",
      "2007 年\n",
      "2008 年\n",
      "2009 年\n",
      "2010 年\n",
      "2011 年\n",
      "2012 年\n",
      "2013 年\n",
      "2014 年\n",
      "2015 年\n",
      "2016 年\n",
      "2017 年\n",
      "2018 年\n",
      "2019 年\n",
      "2020 年\n",
      "2021 年\n",
      "2022 年\n",
      "1\n",
      "2\n",
      "3\n"
     ]
    }
   ],
   "source": [
    "import time\n",
    "\n",
    "# 条件语句\n",
    "# gender = input(\"please input your gender: (boy/girl)\")\n",
    "gender = 'boy'\n",
    "if gender == 'boy':\n",
    "    print('男孩')\n",
    "elif gender == 'girl':\n",
    "    print('女孩')\n",
    "else:\n",
    "    print('什么玩意')\n",
    "\n",
    "# 循环语句\n",
    "num_list = [1, 2, 3, 4]\n",
    "for num in num_list:\n",
    "    print(num)\n",
    "for year in range(2000, 2023):\n",
    "    print('%s 年' % year)\n",
    "# while 循环\n",
    "temp = 0\n",
    "while True:\n",
    "    temp = temp + 1\n",
    "    time.sleep(1)\n",
    "    print(temp)\n",
    "    if temp == 3:\n",
    "        break"
   ]
  },
  {
   "cell_type": "code",
   "execution_count": null,
   "id": "b2ff93ff-7e8f-45b2-b851-c98e0dfd2770",
   "metadata": {},
   "outputs": [],
   "source": [
    "# 元组\n",
    "\n",
    "# 按照月份和日期计算星座\n",
    "# 定义个元组用于表示星座 u表示指定字符串的编码为unicode\n",
    "zodica_name = (u'摩羯',u'水瓶',u'双鱼',u'白羊',u'金牛',u'双子',u'巨蟹',u'狮子',u'处女',u'天枰',u'天蝎',u'射手')\n",
    "# 定义一个元组 由于表示对用星座的起始日期\n",
    "zodiac_days = ((1,20),(2,19),(3,21),(4,21),(5,21),(6,22),(7,23),(8,23),(9,23),(10,23),(11,23),(12,23))\n",
    "# 定义要计算的月份 和 日期\n",
    "(month,day) = (2,15)\n",
    "zodiac_day = filter(lambda x: x <= (month, day), zodiac_days)\n",
    "zodiac_len = len(list(zodiac_day)) % 12\n",
    "print(zodica_name[zodiac_len])\n",
    "\n",
    "# 列表\n",
    "temp_list = ['a', 'b']\n",
    "temp_list.append('c')\n",
    "print(temp_list)\n",
    "temp_list.remove('b')\n",
    "print(temp_list)"
   ]
  },
  {
   "cell_type": "code",
   "execution_count": 7,
   "id": "55f2a6df-d491-41db-8eb0-82000c44d5a0",
   "metadata": {},
   "outputs": [
    {
     "name": "stdout",
     "output_type": "stream",
     "text": [
      "马\n",
      "虎\n",
      "False\n",
      "猴鸡狗猪鼠牛虎兔龙蛇马羊猴鸡狗猪鼠牛虎兔龙蛇马羊\n",
      "猴鸡狗猪鼠牛虎兔龙蛇马羊猴鸡狗猪鼠牛虎兔龙蛇马羊猴鸡狗猪鼠牛虎兔龙蛇马羊\n",
      "猴鸡狗\n"
     ]
    }
   ],
   "source": [
    "# 字符串\n",
    "\n",
    "# 记录生肖，根据年份来判新生肖\n",
    "chinese_zodiac = \"猴鸡狗猪鼠牛虎兔龙蛇马羊\"\n",
    "print(chinese_zodiac[10])\n",
    "year = 2022\n",
    "print(chinese_zodiac[year % 12])\n",
    "print(\"猫\" in chinese_zodiac)\n",
    "print(chinese_zodiac + chinese_zodiac)\n",
    "print(chinese_zodiac * 3)\n",
    "print(chinese_zodiac[:3])"
   ]
  },
  {
   "cell_type": "code",
   "execution_count": 19,
   "id": "5a829147-8437-40e5-8009-b5b025ec043b",
   "metadata": {},
   "outputs": [
    {
     "name": "stdout",
     "output_type": "stream",
     "text": [
      "16.86\n",
      "16.86\n",
      "15159303469753898050286330474618762710103721054712353631130748168040080333107547808898087276321691418713782972161358639686756\n"
     ]
    }
   ],
   "source": [
    "print(eval(\"12.3+4.56\"))\n",
    "num = 12.3\n",
    "print(eval(\"num+4.56\"))\n",
    "big_num1 = 123123123213123123123123123123123122323324234234234234234324234\n",
    "big_num2 = 2\n",
    "print(pow(big_num1, big_num2))"
   ]
  },
  {
   "cell_type": "code",
   "execution_count": null,
   "id": "34cae522-14b8-4d4b-8662-453f8597faae",
   "metadata": {},
   "outputs": [],
   "source": [
    "'''\n",
    "这是多行注释\n",
    "\n",
    "注释的目的：\n",
    "主要阐述代码的用途和原理，即：做什么、怎么做\n",
    "注释力求简单、无歧义\n",
    "'''\n",
    "\n",
    "# 这是一行注释\n",
    "print(\"我后面有注释哦\") # 我是注释\n",
    "\n",
    "# python 之禅\n",
    "import this"
   ]
  },
  {
   "cell_type": "code",
   "execution_count": null,
   "id": "8d4ce4fa-c434-49fe-914d-81806eb50415",
   "metadata": {},
   "outputs": [],
   "source": [
    "import time\n",
    "print(time.time())\n",
    "print(type(6.6))\n",
    "print(type(True))\n",
    "print(\"ABC\">\"ABD\")\n",
    "# print(\"ABC\">123)\n",
    "print(123.0>123)\n",
    "print(\"123.0\">\"123\")"
   ]
  },
  {
   "cell_type": "code",
   "execution_count": null,
   "id": "c1065497-51d0-42b1-9d9b-30617e72dedd",
   "metadata": {},
   "outputs": [],
   "source": [
    "def sum(num1, num2):\n",
    "    return num1 + num2\n",
    "num1 = int(input(\"please input number1:\"))\n",
    "num2 = int(input(\"please input number2:\"))\n",
    "print(sum(num1, num2))"
   ]
  },
  {
   "cell_type": "code",
   "execution_count": null,
   "id": "ced98043-8129-40c9-a3ff-4ff308e6e425",
   "metadata": {},
   "outputs": [],
   "source": [
    "print(\"xyzxyz\".count(\"x\"))\n",
    "print(\"xyzxyz\".isalnum()) # 如果字符串中的所有字符都是字母或数字，且至少有一个字符，那么返回True,否则返回False\n",
    "print(\"xyzxyz\".isalpha()) # 如果字符串中的所有字符都是字母，且至少有一个字符，那么返回True,否则返回False\n",
    "print(\"、\".join(\"abcdefg\"))\n",
    "print(\"a、b、c\".split(\"、\"))\n",
    "print(\"abc\".startswith(\"a\"))\n",
    "\n",
    "article = \"\"\"\n",
    "Beautiful is better than ugly.\n",
    "Explicit is better than implicit.\n",
    "Simple is better than complex.\n",
    "\"\"\"\n",
    "betterCount = article.count(\"better\")\n",
    "print(betterCount)\n",
    "\n",
    "name = input(\"Please input your name\")\n",
    "print(\"Hello \" + name.capitalize())"
   ]
  },
  {
   "cell_type": "code",
   "execution_count": null,
   "id": "73d159cb-5c21-4430-bcf5-51f6fb41b825",
   "metadata": {},
   "outputs": [],
   "source": [
    "print(\"x\" in \"123x\")\n",
    "print(\"abc\" + \"defg\")\n",
    "print(\"x\" * 3)\n",
    "x = \"abcdefg\"\n",
    "print(x[0:7:2]) # 从0开始，到索引位7，步径为2"
   ]
  },
  {
   "cell_type": "code",
   "execution_count": 2,
   "id": "4d2bf248-d9b0-45fb-8633-aae5f3196951",
   "metadata": {},
   "outputs": [
    {
     "name": "stdout",
     "output_type": "stream",
     "text": [
      "x的值是 3.14\n"
     ]
    }
   ],
   "source": [
    "x = 3.14\n",
    "print(f\"x的值是 {x}\")"
   ]
  },
  {
   "cell_type": "code",
   "execution_count": 1,
   "id": "7c50c79d-4b66-4c47-b923-24bfc3df241f",
   "metadata": {},
   "outputs": [
    {
     "name": "stdout",
     "output_type": "stream",
     "text": [
      "reporn\n"
     ]
    }
   ],
   "source": [
    "print('reporn')"
   ]
  }
 ],
 "metadata": {
  "kernelspec": {
   "display_name": "Python 3 (ipykernel)",
   "language": "python",
   "name": "python3"
  },
  "language_info": {
   "codemirror_mode": {
    "name": "ipython",
    "version": 3
   },
   "file_extension": ".py",
   "mimetype": "text/x-python",
   "name": "python",
   "nbconvert_exporter": "python",
   "pygments_lexer": "ipython3",
   "version": "3.10.2"
  }
 },
 "nbformat": 4,
 "nbformat_minor": 5
}
