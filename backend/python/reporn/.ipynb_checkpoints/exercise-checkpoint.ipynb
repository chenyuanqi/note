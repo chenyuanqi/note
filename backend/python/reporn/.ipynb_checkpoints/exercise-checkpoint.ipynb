{
 "cells": [
  {
   "cell_type": "code",
   "execution_count": null,
   "id": "5a829147-8437-40e5-8009-b5b025ec043b",
   "metadata": {},
   "outputs": [],
   "source": [
    "print(eval(\"12.3+4.56\"))\n",
    "num = 12.3\n",
    "print(eval(\"num+4.56\"))\n",
    "big_num1 = 123123123213123123123123123123123122323324234234234234234324234\n",
    "big_num2 = 2\n",
    "print(pow(big_num1, big_num2))"
   ]
  },
  {
   "cell_type": "code",
   "execution_count": null,
   "id": "34cae522-14b8-4d4b-8662-453f8597faae",
   "metadata": {},
   "outputs": [],
   "source": [
    "'''\n",
    "这是多行注释\n",
    "\n",
    "注释的目的：\n",
    "主要阐述代码的用途和原理，即：做什么、怎么做\n",
    "注释力求简单、无歧义\n",
    "'''\n",
    "\n",
    "# 这是一行注释\n",
    "print(\"我后面有注释哦\") # 我是注释\n",
    "\n",
    "# python 之禅\n",
    "import this"
   ]
  },
  {
   "cell_type": "code",
   "execution_count": null,
   "id": "8d4ce4fa-c434-49fe-914d-81806eb50415",
   "metadata": {},
   "outputs": [],
   "source": [
    "import time\n",
    "print(time.time())\n",
    "print(type(6.6))\n",
    "print(type(True))\n",
    "print(\"ABC\">\"ABD\")\n",
    "# print(\"ABC\">123)\n",
    "print(123.0>123)\n",
    "print(\"123.0\">\"123\")"
   ]
  },
  {
   "cell_type": "code",
   "execution_count": null,
   "id": "c1065497-51d0-42b1-9d9b-30617e72dedd",
   "metadata": {},
   "outputs": [],
   "source": [
    "def sum(num1, num2):\n",
    "    return num1 + num2\n",
    "num1 = int(input(\"please input number1:\"))\n",
    "num2 = int(input(\"please input number2:\"))\n",
    "print(sum(num1, num2))"
   ]
  },
  {
   "cell_type": "code",
   "execution_count": null,
   "id": "ced98043-8129-40c9-a3ff-4ff308e6e425",
   "metadata": {},
   "outputs": [],
   "source": [
    "print(\"xyzxyz\".count(\"x\"))\n",
    "print(\"xyzxyz\".isalnum()) # 如果字符串中的所有字符都是字母或数字，且至少有一个字符，那么返回True,否则返回False\n",
    "print(\"xyzxyz\".isalpha()) # 如果字符串中的所有字符都是字母，且至少有一个字符，那么返回True,否则返回False\n",
    "print(\"、\".join(\"abcdefg\"))\n",
    "print(\"a、b、c\".split(\"、\"))\n",
    "print(\"abc\".startswith(\"a\"))\n",
    "\n",
    "article = \"\"\"\n",
    "Beautiful is better than ugly.\n",
    "Explicit is better than implicit.\n",
    "Simple is better than complex.\n",
    "\"\"\"\n",
    "betterCount = article.count(\"better\")\n",
    "print(betterCount)\n",
    "\n",
    "name = input(\"Please input your name\")\n",
    "print(\"Hello \" + name.capitalize())"
   ]
  },
  {
   "cell_type": "code",
   "execution_count": null,
   "id": "73d159cb-5c21-4430-bcf5-51f6fb41b825",
   "metadata": {},
   "outputs": [],
   "source": [
    "print(\"x\" in \"123x\")\n",
    "print(\"abc\" + \"defg\")\n",
    "print(\"x\" * 3)\n",
    "x = \"abcdefg\"\n",
    "print(x[0:7:2]) # 从0开始，到索引位7，步径为2"
   ]
  },
  {
   "cell_type": "code",
   "execution_count": 2,
   "id": "4d2bf248-d9b0-45fb-8633-aae5f3196951",
   "metadata": {},
   "outputs": [
    {
     "name": "stdout",
     "output_type": "stream",
     "text": [
      "x的值是 3.14\n"
     ]
    }
   ],
   "source": [
    "x = 3.14\n",
    "print(f\"x的值是 {x}\")"
   ]
  },
  {
   "cell_type": "code",
   "execution_count": 1,
   "id": "7c50c79d-4b66-4c47-b923-24bfc3df241f",
   "metadata": {},
   "outputs": [
    {
     "name": "stdout",
     "output_type": "stream",
     "text": [
      "reporn\n"
     ]
    }
   ],
   "source": [
    "print('reporn')"
   ]
  }
 ],
 "metadata": {
  "kernelspec": {
   "display_name": "Python 3 (ipykernel)",
   "language": "python",
   "name": "python3"
  },
  "language_info": {
   "codemirror_mode": {
    "name": "ipython",
    "version": 3
   },
   "file_extension": ".py",
   "mimetype": "text/x-python",
   "name": "python",
   "nbconvert_exporter": "python",
   "pygments_lexer": "ipython3",
   "version": "3.10.2"
  }
 },
 "nbformat": 4,
 "nbformat_minor": 5
}
