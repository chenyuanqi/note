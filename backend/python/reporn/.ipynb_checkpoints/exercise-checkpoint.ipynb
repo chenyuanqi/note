{
 "cells": [
  {
   "cell_type": "code",
   "execution_count": null,
   "id": "c1065497-51d0-42b1-9d9b-30617e72dedd",
   "metadata": {},
   "outputs": [],
   "source": []
  },
  {
   "cell_type": "code",
   "execution_count": 20,
   "id": "ced98043-8129-40c9-a3ff-4ff308e6e425",
   "metadata": {},
   "outputs": [
    {
     "name": "stdout",
     "output_type": "stream",
     "text": [
      "2\n",
      "True\n",
      "True\n",
      "a、b、c、d、e、f、g\n",
      "['a', 'b', 'c']\n",
      "True\n",
      "3\n"
     ]
    },
    {
     "name": "stdin",
     "output_type": "stream",
     "text": [
      "Please input your name Vikey\n"
     ]
    },
    {
     "name": "stdout",
     "output_type": "stream",
     "text": [
      "Hello Vikey\n"
     ]
    }
   ],
   "source": [
    "print(\"xyzxyz\".count(\"x\"))\n",
    "print(\"xyzxyz\".isalnum()) # 如果字符串中的所有字符都是字母或数字，且至少有一个字符，那么返回True,否则返回False\n",
    "print(\"xyzxyz\".isalpha()) # 如果字符串中的所有字符都是字母，且至少有一个字符，那么返回True,否则返回False\n",
    "print(\"、\".join(\"abcdefg\"))\n",
    "print(\"a、b、c\".split(\"、\"))\n",
    "print(\"abc\".startswith(\"a\"))\n",
    "\n",
    "article = \"\"\"\n",
    "Beautiful is better than ugly.\n",
    "Explicit is better than implicit.\n",
    "Simple is better than complex.\n",
    "\"\"\"\n",
    "betterCount = article.count(\"better\")\n",
    "print(betterCount)\n",
    "\n",
    "name = input(\"Please input your name\")\n",
    "print(\"Hello \" + name.capitalize())"
   ]
  },
  {
   "cell_type": "code",
   "execution_count": 13,
   "id": "73d159cb-5c21-4430-bcf5-51f6fb41b825",
   "metadata": {},
   "outputs": [
    {
     "name": "stdout",
     "output_type": "stream",
     "text": [
      "True\n",
      "abcdefg\n",
      "xxx\n",
      "aceg\n"
     ]
    }
   ],
   "source": [
    "print(\"x\" in \"123x\")\n",
    "print(\"abc\" + \"defg\")\n",
    "print(\"x\" * 3)\n",
    "x = \"abcdefg\"\n",
    "print(x[0:7:2]) # 从0开始，到索引位7，步径为2"
   ]
  },
  {
   "cell_type": "code",
   "execution_count": 2,
   "id": "4d2bf248-d9b0-45fb-8633-aae5f3196951",
   "metadata": {},
   "outputs": [
    {
     "name": "stdout",
     "output_type": "stream",
     "text": [
      "x的值是 3.14\n"
     ]
    }
   ],
   "source": [
    "x = 3.14\n",
    "print(f\"x的值是 {x}\")"
   ]
  },
  {
   "cell_type": "code",
   "execution_count": 1,
   "id": "7c50c79d-4b66-4c47-b923-24bfc3df241f",
   "metadata": {},
   "outputs": [
    {
     "name": "stdout",
     "output_type": "stream",
     "text": [
      "reporn\n"
     ]
    }
   ],
   "source": [
    "print('reporn')"
   ]
  }
 ],
 "metadata": {
  "kernelspec": {
   "display_name": "Python 3 (ipykernel)",
   "language": "python",
   "name": "python3"
  },
  "language_info": {
   "codemirror_mode": {
    "name": "ipython",
    "version": 3
   },
   "file_extension": ".py",
   "mimetype": "text/x-python",
   "name": "python",
   "nbconvert_exporter": "python",
   "pygments_lexer": "ipython3",
   "version": "3.10.2"
  }
 },
 "nbformat": 4,
 "nbformat_minor": 5
}
