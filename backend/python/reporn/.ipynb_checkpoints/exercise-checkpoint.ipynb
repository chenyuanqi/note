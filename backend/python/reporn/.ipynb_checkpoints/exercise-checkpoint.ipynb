{
 "cells": [
  {
   "cell_type": "code",
   "execution_count": null,
   "id": "14df3b92-9bd6-4b8a-80b8-0bc1f5cd99ae",
   "metadata": {},
   "outputs": [],
   "source": [
    "# 字典\n"
   ]
  },
  {
   "cell_type": "code",
   "execution_count": 15,
   "id": "a92947be-36ce-405f-8c4b-b76f0311efad",
   "metadata": {},
   "outputs": [
    {
     "name": "stdout",
     "output_type": "stream",
     "text": [
      "男孩\n",
      "1\n",
      "2\n",
      "3\n",
      "4\n",
      "2000 年\n",
      "2001 年\n",
      "2002 年\n",
      "2003 年\n",
      "2004 年\n",
      "2005 年\n",
      "2006 年\n",
      "2007 年\n",
      "2008 年\n",
      "2009 年\n",
      "2010 年\n",
      "2011 年\n",
      "2012 年\n",
      "2013 年\n",
      "2014 年\n",
      "2015 年\n",
      "2016 年\n",
      "2017 年\n",
      "2018 年\n",
      "2019 年\n",
      "2020 年\n",
      "2021 年\n",
      "2022 年\n",
      "1\n",
      "2\n",
      "3\n"
     ]
    }
   ],
   "source": [
    "import time\n",
    "\n",
    "# 条件语句\n",
    "# gender = input(\"please input your gender: (boy/girl)\")\n",
    "gender = 'boy'\n",
    "if gender == 'boy':\n",
    "    print('男孩')\n",
    "elif gender == 'girl':\n",
    "    print('女孩')\n",
    "else:\n",
    "    print('什么玩意')\n",
    "\n",
    "# 循环语句\n",
    "num_list = [1, 2, 3, 4]\n",
    "for num in num_list:\n",
    "    print(num)\n",
    "for year in range(2000, 2023):\n",
    "    print('%s 年' % year)\n",
    "# while 循环\n",
    "temp = 0\n",
    "while True:\n",
    "    temp = temp + 1\n",
    "    time.sleep(1)\n",
    "    print(temp)\n",
    "    if temp == 3:\n",
    "        break"
   ]
  },
  {
   "cell_type": "code",
   "execution_count": null,
   "id": "b2ff93ff-7e8f-45b2-b851-c98e0dfd2770",
   "metadata": {},
   "outputs": [],
   "source": [
    "# 元组\n",
    "\n",
    "# 按照月份和日期计算星座\n",
    "# 定义个元组用于表示星座 u表示指定字符串的编码为unicode\n",
    "zodica_name = (u'摩羯',u'水瓶',u'双鱼',u'白羊',u'金牛',u'双子',u'巨蟹',u'狮子',u'处女',u'天枰',u'天蝎',u'射手')\n",
    "# 定义一个元组 由于表示对用星座的起始日期\n",
    "zodiac_days = ((1,20),(2,19),(3,21),(4,21),(5,21),(6,22),(7,23),(8,23),(9,23),(10,23),(11,23),(12,23))\n",
    "# 定义要计算的月份 和 日期\n",
    "(month,day) = (2,15)\n",
    "zodiac_day = filter(lambda x: x <= (month, day), zodiac_days)\n",
    "zodiac_len = len(list(zodiac_day)) % 12\n",
    "print(zodica_name[zodiac_len])\n",
    "\n",
    "# 列表\n",
    "temp_list = ['a', 'b']\n",
    "temp_list.append('c')\n",
    "print(temp_list)\n",
    "temp_list.remove('b')\n",
    "print(temp_list)"
   ]
  },
  {
   "cell_type": "code",
   "execution_count": 7,
   "id": "55f2a6df-d491-41db-8eb0-82000c44d5a0",
   "metadata": {},
   "outputs": [
    {
     "name": "stdout",
     "output_type": "stream",
     "text": [
      "马\n",
      "虎\n",
      "False\n",
      "猴鸡狗猪鼠牛虎兔龙蛇马羊猴鸡狗猪鼠牛虎兔龙蛇马羊\n",
      "猴鸡狗猪鼠牛虎兔龙蛇马羊猴鸡狗猪鼠牛虎兔龙蛇马羊猴鸡狗猪鼠牛虎兔龙蛇马羊\n",
      "猴鸡狗\n"
     ]
    }
   ],
   "source": [
    "# 字符串\n",
    "\n",
    "# 记录生肖，根据年份来判新生肖\n",
    "chinese_zodiac = \"猴鸡狗猪鼠牛虎兔龙蛇马羊\"\n",
    "print(chinese_zodiac[10])\n",
    "year = 2022\n",
    "print(chinese_zodiac[year % 12])\n",
    "print(\"猫\" in chinese_zodiac)\n",
    "print(chinese_zodiac + chinese_zodiac)\n",
    "print(chinese_zodiac * 3)\n",
    "print(chinese_zodiac[:3])"
   ]
  },
  {
   "cell_type": "code",
   "execution_count": 19,
   "id": "5a829147-8437-40e5-8009-b5b025ec043b",
   "metadata": {},
   "outputs": [
    {
     "name": "stdout",
     "output_type": "stream",
     "text": [
      "16.86\n",
      "16.86\n",
      "15159303469753898050286330474618762710103721054712353631130748168040080333107547808898087276321691418713782972161358639686756\n"
     ]
    }
   ],
   "source": [
    "print(eval(\"12.3+4.56\"))\n",
    "num = 12.3\n",
    "print(eval(\"num+4.56\"))\n",
    "big_num1 = 123123123213123123123123123123123122323324234234234234234324234\n",
    "big_num2 = 2\n",
    "print(pow(big_num1, big_num2))"
   ]
  },
  {
   "cell_type": "code",
   "execution_count": null,
   "id": "34cae522-14b8-4d4b-8662-453f8597faae",
   "metadata": {},
   "outputs": [],
   "source": [
    "'''\n",
    "这是多行注释\n",
    "\n",
    "注释的目的：\n",
    "主要阐述代码的用途和原理，即：做什么、怎么做\n",
    "注释力求简单、无歧义\n",
    "'''\n",
    "\n",
    "# 这是一行注释\n",
    "print(\"我后面有注释哦\") # 我是注释\n",
    "\n",
    "# python 之禅\n",
    "import this"
   ]
  },
  {
   "cell_type": "code",
   "execution_count": null,
   "id": "8d4ce4fa-c434-49fe-914d-81806eb50415",
   "metadata": {},
   "outputs": [],
   "source": [
    "import time\n",
    "print(time.time())\n",
    "print(type(6.6))\n",
    "print(type(True))\n",
    "print(\"ABC\">\"ABD\")\n",
    "# print(\"ABC\">123)\n",
    "print(123.0>123)\n",
    "print(\"123.0\">\"123\")"
   ]
  },
  {
   "cell_type": "code",
   "execution_count": null,
   "id": "c1065497-51d0-42b1-9d9b-30617e72dedd",
   "metadata": {},
   "outputs": [],
   "source": [
    "def sum(num1, num2):\n",
    "    return num1 + num2\n",
    "num1 = int(input(\"please input number1:\"))\n",
    "num2 = int(input(\"please input number2:\"))\n",
    "print(sum(num1, num2))"
   ]
  },
  {
   "cell_type": "code",
   "execution_count": null,
   "id": "ced98043-8129-40c9-a3ff-4ff308e6e425",
   "metadata": {},
   "outputs": [],
   "source": [
    "print(\"xyzxyz\".count(\"x\"))\n",
    "print(\"xyzxyz\".isalnum()) # 如果字符串中的所有字符都是字母或数字，且至少有一个字符，那么返回True,否则返回False\n",
    "print(\"xyzxyz\".isalpha()) # 如果字符串中的所有字符都是字母，且至少有一个字符，那么返回True,否则返回False\n",
    "print(\"、\".join(\"abcdefg\"))\n",
    "print(\"a、b、c\".split(\"、\"))\n",
    "print(\"abc\".startswith(\"a\"))\n",
    "\n",
    "article = \"\"\"\n",
    "Beautiful is better than ugly.\n",
    "Explicit is better than implicit.\n",
    "Simple is better than complex.\n",
    "\"\"\"\n",
    "betterCount = article.count(\"better\")\n",
    "print(betterCount)\n",
    "\n",
    "name = input(\"Please input your name\")\n",
    "print(\"Hello \" + name.capitalize())"
   ]
  },
  {
   "cell_type": "code",
   "execution_count": null,
   "id": "73d159cb-5c21-4430-bcf5-51f6fb41b825",
   "metadata": {},
   "outputs": [],
   "source": [
    "print(\"x\" in \"123x\")\n",
    "print(\"abc\" + \"defg\")\n",
    "print(\"x\" * 3)\n",
    "x = \"abcdefg\"\n",
    "print(x[0:7:2]) # 从0开始，到索引位7，步径为2"
   ]
  },
  {
   "cell_type": "code",
   "execution_count": 2,
   "id": "4d2bf248-d9b0-45fb-8633-aae5f3196951",
   "metadata": {},
   "outputs": [
    {
     "name": "stdout",
     "output_type": "stream",
     "text": [
      "x的值是 3.14\n"
     ]
    }
   ],
   "source": [
    "x = 3.14\n",
    "print(f\"x的值是 {x}\")"
   ]
  },
  {
   "cell_type": "code",
   "execution_count": 1,
   "id": "7c50c79d-4b66-4c47-b923-24bfc3df241f",
   "metadata": {},
   "outputs": [
    {
     "name": "stdout",
     "output_type": "stream",
     "text": [
      "reporn\n"
     ]
    }
   ],
   "source": [
    "print('reporn')"
   ]
  }
 ],
 "metadata": {
  "kernelspec": {
   "display_name": "Python 3 (ipykernel)",
   "language": "python",
   "name": "python3"
  },
  "language_info": {
   "codemirror_mode": {
    "name": "ipython",
    "version": 3
   },
   "file_extension": ".py",
   "mimetype": "text/x-python",
   "name": "python",
   "nbconvert_exporter": "python",
   "pygments_lexer": "ipython3",
   "version": "3.10.2"
  }
 },
 "nbformat": 4,
 "nbformat_minor": 5
}
